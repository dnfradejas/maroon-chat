{
 "cells": [
  {
   "cell_type": "code",
   "execution_count": 1,
   "metadata": {},
   "outputs": [],
   "source": [
    "import os\n",
    "os.environ[\"CUDA_VISIBLE_DEVICES\"]=\"2\"\n",
    "\n",
    "import torch\n",
    "import re\n",
    "from peft import PeftModel\n",
    "from transformers import AutoTokenizer, AutoModelForCausalLM, BitsAndBytesConfig"
   ]
  },
  {
   "cell_type": "code",
   "execution_count": 2,
   "metadata": {},
   "outputs": [],
   "source": [
    "# create Maroon Chat class\n",
    "class MaroonChat:\n",
    "    def __init__(self):\n",
    "        self.base_model_id = \"mistralai/Mistral-7B-v0.1\"\n",
    "        self.bnb_config = BitsAndBytesConfig(\n",
    "            load_in_4bit=True,\n",
    "            bnb_4bit_use_double_quant=True,\n",
    "            bnb_4bit_quant_type=\"nf4\",\n",
    "            bnb_4bit_compute_dtype=torch.bfloat16\n",
    "        )\n",
    "        self.base_model = AutoModelForCausalLM.from_pretrained(\n",
    "            self.base_model_id,  # Mistral, same as before\n",
    "            quantization_config=self.bnb_config,  # Same quantization config as before\n",
    "            device_map=\"auto\",\n",
    "            trust_remote_code=True,\n",
    "            use_auth_token=False\n",
    "        )\n",
    "        self.eval_tokenizer = AutoTokenizer.from_pretrained(self.base_model_id, \n",
    "                                                            add_bos_token=True, \n",
    "                                                            trust_remote_code=True)\n",
    "        self.model = PeftModel.from_pretrained(self.base_model, \n",
    "                                               \"mistral-nlp-best/checkpoint-500-r32-alpha64\")\n",
    "\n",
    "    def generate(self, prompt):\n",
    "        model_input = self.eval_tokenizer(prompt, return_tensors=\"pt\").to(\"cuda\")\n",
    "        self.model.eval()\n",
    "\n",
    "        with torch.no_grad():\n",
    "            result = self.eval_tokenizer.decode(self.model.generate(**model_input, max_new_tokens=100, repetition_penalty=1.15)[0], skip_special_tokens=True)\n",
    "            \n",
    "            # filter out the prompt text\n",
    "            result = re.split(r'(?<!\\s\\w)(?<!Hon)(?<!Dr)(?<!Mr)(?<!Mrs)(?<!Ms)(?<!No)(?<!R.A)(?<!Prof)(?<!Atty)\\.', result)[0]\n",
    "            \n",
    "            # remove prompt text from the result\n",
    "            result = result.replace(prompt, \"\")\n",
    "\n",
    "            # remove ## as well\n",
    "            result = result.replace(\"#\", \"\")\n",
    "\n",
    "            # remove preceding spaces\n",
    "            result = result.strip()\n",
    "\n",
    "            # remove texts after the first period\n",
    "            result = re.split(r'\\n', result)[0] + \".\"\n",
    "\n",
    "            return result"
   ]
  },
  {
   "cell_type": "code",
   "execution_count": 3,
   "metadata": {},
   "outputs": [
    {
     "name": "stdout",
     "output_type": "stream",
     "text": [
      "1\n"
     ]
    }
   ],
   "source": [
    "# check number of cuda devices\n",
    "print(torch.cuda.device_count())"
   ]
  },
  {
   "cell_type": "code",
   "execution_count": 4,
   "metadata": {},
   "outputs": [
    {
     "name": "stderr",
     "output_type": "stream",
     "text": [
      "/home/dayne/anaconda3/lib/python3.11/site-packages/transformers/models/auto/auto_factory.py:472: FutureWarning: The `use_auth_token` argument is deprecated and will be removed in v5 of Transformers. Please use `token` instead.\n",
      "  warnings.warn(\n"
     ]
    },
    {
     "data": {
      "application/vnd.jupyter.widget-view+json": {
       "model_id": "fe350b4996964ed3bf75ef17983d0232",
       "version_major": 2,
       "version_minor": 0
      },
      "text/plain": [
       "Loading checkpoint shards:   0%|          | 0/2 [00:00<?, ?it/s]"
      ]
     },
     "metadata": {},
     "output_type": "display_data"
    }
   ],
   "source": [
    "# initialize Maroon Chat\n",
    "mc = MaroonChat()"
   ]
  },
  {
   "cell_type": "code",
   "execution_count": 5,
   "metadata": {},
   "outputs": [
    {
     "name": "stderr",
     "output_type": "stream",
     "text": [
      "Setting `pad_token_id` to `eos_token_id`:2 for open-end generation.\n"
     ]
    },
    {
     "name": "stdout",
     "output_type": "stream",
     "text": [
      "Rowel Atienza is a Filipino professional basketball player who currently plays for the San Miguel Beermen of the Philippine Basketball Association (PBA).\n"
     ]
    }
   ],
   "source": [
    "# generate response\n",
    "print(mc.generate(\"What is Rowel Atienza background?\"))"
   ]
  },
  {
   "cell_type": "code",
   "execution_count": 6,
   "metadata": {},
   "outputs": [
    {
     "name": "stdout",
     "output_type": "stream",
     "text": [
      "Running on local URL:  http://127.0.0.1:7860\n",
      "Running on public URL: https://8450083abda63da927.gradio.live\n",
      "\n",
      "This share link expires in 72 hours. For free permanent hosting and GPU upgrades, run `gradio deploy` from Terminal to deploy to Spaces (https://huggingface.co/spaces)\n"
     ]
    },
    {
     "data": {
      "text/html": [
       "<div><iframe src=\"https://8450083abda63da927.gradio.live\" width=\"100%\" height=\"500\" allow=\"autoplay; camera; microphone; clipboard-read; clipboard-write;\" frameborder=\"0\" allowfullscreen></iframe></div>"
      ],
      "text/plain": [
       "<IPython.core.display.HTML object>"
      ]
     },
     "metadata": {},
     "output_type": "display_data"
    },
    {
     "data": {
      "text/plain": []
     },
     "execution_count": 6,
     "metadata": {},
     "output_type": "execute_result"
    },
    {
     "name": "stderr",
     "output_type": "stream",
     "text": [
      "Setting `pad_token_id` to `eos_token_id`:2 for open-end generation.\n",
      "Setting `pad_token_id` to `eos_token_id`:2 for open-end generation.\n",
      "Setting `pad_token_id` to `eos_token_id`:2 for open-end generation.\n",
      "Setting `pad_token_id` to `eos_token_id`:2 for open-end generation.\n",
      "Setting `pad_token_id` to `eos_token_id`:2 for open-end generation.\n",
      "Setting `pad_token_id` to `eos_token_id`:2 for open-end generation.\n",
      "Setting `pad_token_id` to `eos_token_id`:2 for open-end generation.\n",
      "Setting `pad_token_id` to `eos_token_id`:2 for open-end generation.\n",
      "Setting `pad_token_id` to `eos_token_id`:2 for open-end generation.\n",
      "Setting `pad_token_id` to `eos_token_id`:2 for open-end generation.\n",
      "Setting `pad_token_id` to `eos_token_id`:2 for open-end generation.\n",
      "Setting `pad_token_id` to `eos_token_id`:2 for open-end generation.\n",
      "Setting `pad_token_id` to `eos_token_id`:2 for open-end generation.\n",
      "Setting `pad_token_id` to `eos_token_id`:2 for open-end generation.\n",
      "Setting `pad_token_id` to `eos_token_id`:2 for open-end generation.\n",
      "Setting `pad_token_id` to `eos_token_id`:2 for open-end generation.\n",
      "Setting `pad_token_id` to `eos_token_id`:2 for open-end generation.\n",
      "Setting `pad_token_id` to `eos_token_id`:2 for open-end generation.\n",
      "Setting `pad_token_id` to `eos_token_id`:2 for open-end generation.\n"
     ]
    }
   ],
   "source": [
    "import gradio as gr  \n",
    "\n",
    "def maroon_chat(prompt):\n",
    "    return mc.generate(prompt)\n",
    "\n",
    "iface = gr.Interface(\n",
    "    fn=maroon_chat, \n",
    "    inputs=gr.Textbox(lines=2, placeholder=\"Enter your prompt here...\"),\n",
    "    outputs=gr.Textbox(lines=2),\n",
    "    title=\"Maroon Chat\",\n",
    "    description=\"A chatbot trained on University of the Philippiens Data.\"\n",
    ")\n",
    "\n",
    "iface.launch(share=True)\n"
   ]
  }
 ],
 "metadata": {
  "kernelspec": {
   "display_name": "base",
   "language": "python",
   "name": "python3"
  },
  "language_info": {
   "codemirror_mode": {
    "name": "ipython",
    "version": 3
   },
   "file_extension": ".py",
   "mimetype": "text/x-python",
   "name": "python",
   "nbconvert_exporter": "python",
   "pygments_lexer": "ipython3",
   "version": "3.11.4"
  }
 },
 "nbformat": 4,
 "nbformat_minor": 2
}
