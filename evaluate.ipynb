{
 "cells": [
  {
   "cell_type": "code",
   "execution_count": 1,
   "metadata": {},
   "outputs": [
    {
     "name": "stderr",
     "output_type": "stream",
     "text": [
      "/usr/lib/python3/dist-packages/requests/__init__.py:89: RequestsDependencyWarning: urllib3 (2.1.0) or chardet (5.2.0) doesn't match a supported version!\n",
      "  warnings.warn(\"urllib3 ({}) or chardet ({}) doesn't match a supported \"\n"
     ]
    }
   ],
   "source": [
    "import os\n",
    "os.environ[\"CUDA_VISIBLE_DEVICES\"]= \"2\"\n",
    "\n",
    "import torch\n",
    "import re\n",
    "from peft import PeftModel\n",
    "from transformers import AutoTokenizer, AutoModelForCausalLM, BitsAndBytesConfig\n",
    "\n",
    "from sentence_transformers import SentenceTransformer\n",
    "import pandas as pd\n",
    "import numpy as np \n",
    "import jellyfish"
   ]
  },
  {
   "cell_type": "code",
   "execution_count": 2,
   "metadata": {},
   "outputs": [],
   "source": [
    "# create Maroon Chat class\n",
    "class MaroonChat:\n",
    "    def __init__(self):\n",
    "        self.base_model_id = \"mistralai/Mistral-7B-v0.1\"\n",
    "        self.bnb_config = BitsAndBytesConfig(\n",
    "            load_in_4bit=True,\n",
    "            bnb_4bit_use_double_quant=True,\n",
    "            bnb_4bit_quant_type=\"nf4\",\n",
    "            bnb_4bit_compute_dtype=torch.bfloat16\n",
    "        )\n",
    "        self.base_model = AutoModelForCausalLM.from_pretrained(\n",
    "            self.base_model_id,  # Mistral, same as before\n",
    "            quantization_config=self.bnb_config,  # Same quantization config as before\n",
    "            device_map=\"auto\",\n",
    "            trust_remote_code=True,\n",
    "            use_auth_token=False\n",
    "        )\n",
    "        self.eval_tokenizer = AutoTokenizer.from_pretrained(self.base_model_id, \n",
    "                                                            add_bos_token=True, \n",
    "                                                            trust_remote_code=True)\n",
    "        self.model = PeftModel.from_pretrained(self.base_model, \n",
    "                                               \"mistral-nlp-best/checkpoint-500-r32-alpha64\")\n",
    "\n",
    "    def generate(self, prompt):\n",
    "        model_input = self.eval_tokenizer(prompt, return_tensors=\"pt\").to(\"cuda\")\n",
    "        self.model.eval()\n",
    "\n",
    "        with torch.no_grad():\n",
    "            result = self.eval_tokenizer.decode(self.model.generate(**model_input, max_new_tokens=100, repetition_penalty=1.20)[0], skip_special_tokens=True)\n",
    "            \n",
    "            # filter out the prompt text\n",
    "            result = re.split(r'(?<!\\s\\w)(?<!Hon)(?<!Dr)(?<!Mr)(?<!Mrs)(?<!Ms)(?<!No)(?<!R.A)(?<!Prof)(?<!Atty)\\.', result)[0]\n",
    "            \n",
    "            # remove prompt text from the result\n",
    "            result = result.replace(prompt, \"\")\n",
    "\n",
    "            # remove ## as well\n",
    "            result = result.replace(\"#\", \"\")\n",
    "\n",
    "            # remove preceding spaces\n",
    "            result = result.strip()\n",
    "\n",
    "            # remove texts after the first period\n",
    "            result = re.split(r'\\n', result)[0] + \".\"\n",
    "\n",
    "            return result"
   ]
  },
  {
   "cell_type": "code",
   "execution_count": 3,
   "metadata": {},
   "outputs": [
    {
     "name": "stderr",
     "output_type": "stream",
     "text": [
      "/home/dayne/.local/lib/python3.8/site-packages/transformers/models/auto/auto_factory.py:472: FutureWarning: The `use_auth_token` argument is deprecated and will be removed in v5 of Transformers. Please use `token` instead.\n",
      "  warnings.warn(\n"
     ]
    },
    {
     "data": {
      "application/vnd.jupyter.widget-view+json": {
       "model_id": "ea7f5b9e0cc74b8b8743ee490d270958",
       "version_major": 2,
       "version_minor": 0
      },
      "text/plain": [
       "Loading checkpoint shards:   0%|          | 0/2 [00:00<?, ?it/s]"
      ]
     },
     "metadata": {},
     "output_type": "display_data"
    }
   ],
   "source": [
    "mc = MaroonChat()"
   ]
  },
  {
   "cell_type": "code",
   "execution_count": 4,
   "metadata": {},
   "outputs": [
    {
     "name": "stderr",
     "output_type": "stream",
     "text": [
      "Setting `pad_token_id` to `eos_token_id`:2 for open-end generation.\n",
      "Setting `pad_token_id` to `eos_token_id`:2 for open-end generation.\n"
     ]
    },
    {
     "name": "stdout",
     "output_type": "stream",
     "text": [
      "currently processing question no. 2 "
     ]
    },
    {
     "name": "stderr",
     "output_type": "stream",
     "text": [
      "Setting `pad_token_id` to `eos_token_id`:2 for open-end generation.\n"
     ]
    },
    {
     "name": "stdout",
     "output_type": "stream",
     "text": [
      "currently processing question no. 3 "
     ]
    },
    {
     "name": "stderr",
     "output_type": "stream",
     "text": [
      "Setting `pad_token_id` to `eos_token_id`:2 for open-end generation.\n"
     ]
    },
    {
     "name": "stdout",
     "output_type": "stream",
     "text": [
      "currently processing question no. 4 "
     ]
    },
    {
     "name": "stderr",
     "output_type": "stream",
     "text": [
      "Setting `pad_token_id` to `eos_token_id`:2 for open-end generation.\n"
     ]
    },
    {
     "name": "stdout",
     "output_type": "stream",
     "text": [
      "currently processing question no. 5 "
     ]
    },
    {
     "name": "stderr",
     "output_type": "stream",
     "text": [
      "Setting `pad_token_id` to `eos_token_id`:2 for open-end generation.\n"
     ]
    },
    {
     "name": "stdout",
     "output_type": "stream",
     "text": [
      "currently processing question no. 6 "
     ]
    },
    {
     "name": "stderr",
     "output_type": "stream",
     "text": [
      "Setting `pad_token_id` to `eos_token_id`:2 for open-end generation.\n"
     ]
    },
    {
     "name": "stdout",
     "output_type": "stream",
     "text": [
      "currently processing question no. 7 "
     ]
    },
    {
     "name": "stderr",
     "output_type": "stream",
     "text": [
      "Setting `pad_token_id` to `eos_token_id`:2 for open-end generation.\n"
     ]
    },
    {
     "name": "stdout",
     "output_type": "stream",
     "text": [
      "currently processing question no. 8 "
     ]
    },
    {
     "name": "stderr",
     "output_type": "stream",
     "text": [
      "Setting `pad_token_id` to `eos_token_id`:2 for open-end generation.\n"
     ]
    },
    {
     "name": "stdout",
     "output_type": "stream",
     "text": [
      "currently processing question no. 9 "
     ]
    },
    {
     "name": "stderr",
     "output_type": "stream",
     "text": [
      "Setting `pad_token_id` to `eos_token_id`:2 for open-end generation.\n"
     ]
    },
    {
     "name": "stdout",
     "output_type": "stream",
     "text": [
      "currently processing question no. 10 "
     ]
    },
    {
     "name": "stderr",
     "output_type": "stream",
     "text": [
      "Setting `pad_token_id` to `eos_token_id`:2 for open-end generation.\n"
     ]
    },
    {
     "name": "stdout",
     "output_type": "stream",
     "text": [
      "currently processing question no. 11 "
     ]
    },
    {
     "name": "stderr",
     "output_type": "stream",
     "text": [
      "Setting `pad_token_id` to `eos_token_id`:2 for open-end generation.\n"
     ]
    },
    {
     "name": "stdout",
     "output_type": "stream",
     "text": [
      "currently processing question no. 12 "
     ]
    },
    {
     "name": "stderr",
     "output_type": "stream",
     "text": [
      "Setting `pad_token_id` to `eos_token_id`:2 for open-end generation.\n"
     ]
    },
    {
     "name": "stdout",
     "output_type": "stream",
     "text": [
      "currently processing question no. 13 "
     ]
    },
    {
     "name": "stderr",
     "output_type": "stream",
     "text": [
      "Setting `pad_token_id` to `eos_token_id`:2 for open-end generation.\n"
     ]
    },
    {
     "name": "stdout",
     "output_type": "stream",
     "text": [
      "currently processing question no. 14 "
     ]
    },
    {
     "name": "stderr",
     "output_type": "stream",
     "text": [
      "Setting `pad_token_id` to `eos_token_id`:2 for open-end generation.\n"
     ]
    },
    {
     "name": "stdout",
     "output_type": "stream",
     "text": [
      "currently processing question no. 15 "
     ]
    },
    {
     "name": "stderr",
     "output_type": "stream",
     "text": [
      "Setting `pad_token_id` to `eos_token_id`:2 for open-end generation.\n"
     ]
    },
    {
     "name": "stdout",
     "output_type": "stream",
     "text": [
      "currently processing question no. 16 "
     ]
    },
    {
     "name": "stderr",
     "output_type": "stream",
     "text": [
      "Setting `pad_token_id` to `eos_token_id`:2 for open-end generation.\n"
     ]
    },
    {
     "name": "stdout",
     "output_type": "stream",
     "text": [
      "currently processing question no. 17 "
     ]
    },
    {
     "name": "stderr",
     "output_type": "stream",
     "text": [
      "Setting `pad_token_id` to `eos_token_id`:2 for open-end generation.\n"
     ]
    },
    {
     "name": "stdout",
     "output_type": "stream",
     "text": [
      "currently processing question no. 18 "
     ]
    },
    {
     "name": "stderr",
     "output_type": "stream",
     "text": [
      "Setting `pad_token_id` to `eos_token_id`:2 for open-end generation.\n"
     ]
    },
    {
     "name": "stdout",
     "output_type": "stream",
     "text": [
      "currently processing question no. 19 "
     ]
    },
    {
     "name": "stderr",
     "output_type": "stream",
     "text": [
      "Setting `pad_token_id` to `eos_token_id`:2 for open-end generation.\n"
     ]
    },
    {
     "name": "stdout",
     "output_type": "stream",
     "text": [
      "currently processing question no. 20 "
     ]
    },
    {
     "name": "stderr",
     "output_type": "stream",
     "text": [
      "Setting `pad_token_id` to `eos_token_id`:2 for open-end generation.\n"
     ]
    },
    {
     "name": "stdout",
     "output_type": "stream",
     "text": [
      "currently processing question no. 21 "
     ]
    },
    {
     "name": "stderr",
     "output_type": "stream",
     "text": [
      "Setting `pad_token_id` to `eos_token_id`:2 for open-end generation.\n"
     ]
    },
    {
     "name": "stdout",
     "output_type": "stream",
     "text": [
      "currently processing question no. 22 "
     ]
    },
    {
     "name": "stderr",
     "output_type": "stream",
     "text": [
      "Setting `pad_token_id` to `eos_token_id`:2 for open-end generation.\n"
     ]
    },
    {
     "name": "stdout",
     "output_type": "stream",
     "text": [
      "currently processing question no. 23 "
     ]
    },
    {
     "name": "stderr",
     "output_type": "stream",
     "text": [
      "Setting `pad_token_id` to `eos_token_id`:2 for open-end generation.\n"
     ]
    },
    {
     "name": "stdout",
     "output_type": "stream",
     "text": [
      "currently processing question no. 24 "
     ]
    },
    {
     "name": "stderr",
     "output_type": "stream",
     "text": [
      "Setting `pad_token_id` to `eos_token_id`:2 for open-end generation.\n"
     ]
    },
    {
     "name": "stdout",
     "output_type": "stream",
     "text": [
      "currently processing question no. 25 "
     ]
    },
    {
     "name": "stderr",
     "output_type": "stream",
     "text": [
      "Setting `pad_token_id` to `eos_token_id`:2 for open-end generation.\n"
     ]
    },
    {
     "name": "stdout",
     "output_type": "stream",
     "text": [
      "currently processing question no. 26 "
     ]
    },
    {
     "name": "stderr",
     "output_type": "stream",
     "text": [
      "Setting `pad_token_id` to `eos_token_id`:2 for open-end generation.\n"
     ]
    },
    {
     "name": "stdout",
     "output_type": "stream",
     "text": [
      "currently processing question no. 27 "
     ]
    },
    {
     "name": "stderr",
     "output_type": "stream",
     "text": [
      "Setting `pad_token_id` to `eos_token_id`:2 for open-end generation.\n"
     ]
    },
    {
     "name": "stdout",
     "output_type": "stream",
     "text": [
      "currently processing question no. 28 "
     ]
    },
    {
     "name": "stderr",
     "output_type": "stream",
     "text": [
      "Setting `pad_token_id` to `eos_token_id`:2 for open-end generation.\n"
     ]
    },
    {
     "name": "stdout",
     "output_type": "stream",
     "text": [
      "currently processing question no. 29 "
     ]
    },
    {
     "name": "stderr",
     "output_type": "stream",
     "text": [
      "Setting `pad_token_id` to `eos_token_id`:2 for open-end generation.\n"
     ]
    },
    {
     "name": "stdout",
     "output_type": "stream",
     "text": [
      "currently processing question no. 30 "
     ]
    },
    {
     "name": "stderr",
     "output_type": "stream",
     "text": [
      "Setting `pad_token_id` to `eos_token_id`:2 for open-end generation.\n"
     ]
    },
    {
     "name": "stdout",
     "output_type": "stream",
     "text": [
      "currently processing question no. 31 "
     ]
    },
    {
     "name": "stderr",
     "output_type": "stream",
     "text": [
      "Setting `pad_token_id` to `eos_token_id`:2 for open-end generation.\n"
     ]
    },
    {
     "name": "stdout",
     "output_type": "stream",
     "text": [
      "currently processing question no. 32 "
     ]
    },
    {
     "name": "stderr",
     "output_type": "stream",
     "text": [
      "Setting `pad_token_id` to `eos_token_id`:2 for open-end generation.\n"
     ]
    },
    {
     "name": "stdout",
     "output_type": "stream",
     "text": [
      "currently processing question no. 33 "
     ]
    },
    {
     "name": "stderr",
     "output_type": "stream",
     "text": [
      "Setting `pad_token_id` to `eos_token_id`:2 for open-end generation.\n"
     ]
    },
    {
     "name": "stdout",
     "output_type": "stream",
     "text": [
      "currently processing question no. 34 "
     ]
    },
    {
     "name": "stderr",
     "output_type": "stream",
     "text": [
      "Setting `pad_token_id` to `eos_token_id`:2 for open-end generation.\n"
     ]
    },
    {
     "name": "stdout",
     "output_type": "stream",
     "text": [
      "currently processing question no. 35 "
     ]
    },
    {
     "name": "stderr",
     "output_type": "stream",
     "text": [
      "Setting `pad_token_id` to `eos_token_id`:2 for open-end generation.\n"
     ]
    },
    {
     "name": "stdout",
     "output_type": "stream",
     "text": [
      "currently processing question no. 36 "
     ]
    },
    {
     "name": "stderr",
     "output_type": "stream",
     "text": [
      "Setting `pad_token_id` to `eos_token_id`:2 for open-end generation.\n"
     ]
    },
    {
     "name": "stdout",
     "output_type": "stream",
     "text": [
      "currently processing question no. 37 "
     ]
    },
    {
     "name": "stderr",
     "output_type": "stream",
     "text": [
      "Setting `pad_token_id` to `eos_token_id`:2 for open-end generation.\n"
     ]
    },
    {
     "name": "stdout",
     "output_type": "stream",
     "text": [
      "currently processing question no. 38 "
     ]
    },
    {
     "name": "stderr",
     "output_type": "stream",
     "text": [
      "Setting `pad_token_id` to `eos_token_id`:2 for open-end generation.\n"
     ]
    },
    {
     "name": "stdout",
     "output_type": "stream",
     "text": [
      "currently processing question no. 39 "
     ]
    },
    {
     "name": "stderr",
     "output_type": "stream",
     "text": [
      "Setting `pad_token_id` to `eos_token_id`:2 for open-end generation.\n"
     ]
    },
    {
     "name": "stdout",
     "output_type": "stream",
     "text": [
      "currently processing question no. 40 "
     ]
    },
    {
     "name": "stderr",
     "output_type": "stream",
     "text": [
      "Setting `pad_token_id` to `eos_token_id`:2 for open-end generation.\n"
     ]
    },
    {
     "name": "stdout",
     "output_type": "stream",
     "text": [
      "currently processing question no. 41 "
     ]
    },
    {
     "name": "stderr",
     "output_type": "stream",
     "text": [
      "Setting `pad_token_id` to `eos_token_id`:2 for open-end generation.\n"
     ]
    },
    {
     "name": "stdout",
     "output_type": "stream",
     "text": [
      "currently processing question no. 42 "
     ]
    },
    {
     "name": "stderr",
     "output_type": "stream",
     "text": [
      "Setting `pad_token_id` to `eos_token_id`:2 for open-end generation.\n"
     ]
    },
    {
     "name": "stdout",
     "output_type": "stream",
     "text": [
      "currently processing question no. 43 "
     ]
    },
    {
     "name": "stderr",
     "output_type": "stream",
     "text": [
      "Setting `pad_token_id` to `eos_token_id`:2 for open-end generation.\n"
     ]
    },
    {
     "name": "stdout",
     "output_type": "stream",
     "text": [
      "currently processing question no. 44 "
     ]
    },
    {
     "name": "stderr",
     "output_type": "stream",
     "text": [
      "Setting `pad_token_id` to `eos_token_id`:2 for open-end generation.\n"
     ]
    },
    {
     "name": "stdout",
     "output_type": "stream",
     "text": [
      "currently processing question no. 45 "
     ]
    },
    {
     "name": "stderr",
     "output_type": "stream",
     "text": [
      "Setting `pad_token_id` to `eos_token_id`:2 for open-end generation.\n"
     ]
    },
    {
     "name": "stdout",
     "output_type": "stream",
     "text": [
      "currently processing question no. 46 "
     ]
    },
    {
     "name": "stderr",
     "output_type": "stream",
     "text": [
      "Setting `pad_token_id` to `eos_token_id`:2 for open-end generation.\n"
     ]
    },
    {
     "name": "stdout",
     "output_type": "stream",
     "text": [
      "currently processing question no. 47 "
     ]
    },
    {
     "name": "stderr",
     "output_type": "stream",
     "text": [
      "Setting `pad_token_id` to `eos_token_id`:2 for open-end generation.\n"
     ]
    },
    {
     "name": "stdout",
     "output_type": "stream",
     "text": [
      "currently processing question no. 48 "
     ]
    },
    {
     "name": "stderr",
     "output_type": "stream",
     "text": [
      "Setting `pad_token_id` to `eos_token_id`:2 for open-end generation.\n"
     ]
    },
    {
     "name": "stdout",
     "output_type": "stream",
     "text": [
      "currently processing question no. 49 "
     ]
    },
    {
     "name": "stderr",
     "output_type": "stream",
     "text": [
      "Setting `pad_token_id` to `eos_token_id`:2 for open-end generation.\n"
     ]
    },
    {
     "name": "stdout",
     "output_type": "stream",
     "text": [
      "currently processing question no. 50 "
     ]
    },
    {
     "name": "stderr",
     "output_type": "stream",
     "text": [
      "Setting `pad_token_id` to `eos_token_id`:2 for open-end generation.\n"
     ]
    },
    {
     "name": "stdout",
     "output_type": "stream",
     "text": [
      "currently processing question no. 51 "
     ]
    },
    {
     "name": "stderr",
     "output_type": "stream",
     "text": [
      "Setting `pad_token_id` to `eos_token_id`:2 for open-end generation.\n"
     ]
    },
    {
     "name": "stdout",
     "output_type": "stream",
     "text": [
      "currently processing question no. 52 "
     ]
    },
    {
     "name": "stderr",
     "output_type": "stream",
     "text": [
      "Setting `pad_token_id` to `eos_token_id`:2 for open-end generation.\n"
     ]
    },
    {
     "name": "stdout",
     "output_type": "stream",
     "text": [
      "currently processing question no. 53 "
     ]
    },
    {
     "name": "stderr",
     "output_type": "stream",
     "text": [
      "Setting `pad_token_id` to `eos_token_id`:2 for open-end generation.\n"
     ]
    },
    {
     "name": "stdout",
     "output_type": "stream",
     "text": [
      "currently processing question no. 54 "
     ]
    },
    {
     "name": "stderr",
     "output_type": "stream",
     "text": [
      "Setting `pad_token_id` to `eos_token_id`:2 for open-end generation.\n"
     ]
    },
    {
     "name": "stdout",
     "output_type": "stream",
     "text": [
      "currently processing question no. 55 "
     ]
    },
    {
     "name": "stderr",
     "output_type": "stream",
     "text": [
      "Setting `pad_token_id` to `eos_token_id`:2 for open-end generation.\n"
     ]
    },
    {
     "name": "stdout",
     "output_type": "stream",
     "text": [
      "currently processing question no. 56 "
     ]
    },
    {
     "name": "stderr",
     "output_type": "stream",
     "text": [
      "Setting `pad_token_id` to `eos_token_id`:2 for open-end generation.\n"
     ]
    },
    {
     "name": "stdout",
     "output_type": "stream",
     "text": [
      "currently processing question no. 57 "
     ]
    },
    {
     "name": "stderr",
     "output_type": "stream",
     "text": [
      "Setting `pad_token_id` to `eos_token_id`:2 for open-end generation.\n"
     ]
    },
    {
     "name": "stdout",
     "output_type": "stream",
     "text": [
      "currently processing question no. 58 "
     ]
    },
    {
     "name": "stderr",
     "output_type": "stream",
     "text": [
      "Setting `pad_token_id` to `eos_token_id`:2 for open-end generation.\n"
     ]
    },
    {
     "name": "stdout",
     "output_type": "stream",
     "text": [
      "currently processing question no. 59 "
     ]
    },
    {
     "name": "stderr",
     "output_type": "stream",
     "text": [
      "Setting `pad_token_id` to `eos_token_id`:2 for open-end generation.\n"
     ]
    },
    {
     "name": "stdout",
     "output_type": "stream",
     "text": [
      "currently processing question no. 60 "
     ]
    },
    {
     "name": "stderr",
     "output_type": "stream",
     "text": [
      "Setting `pad_token_id` to `eos_token_id`:2 for open-end generation.\n"
     ]
    },
    {
     "name": "stdout",
     "output_type": "stream",
     "text": [
      "currently processing question no. 61 "
     ]
    },
    {
     "name": "stderr",
     "output_type": "stream",
     "text": [
      "Setting `pad_token_id` to `eos_token_id`:2 for open-end generation.\n"
     ]
    },
    {
     "name": "stdout",
     "output_type": "stream",
     "text": [
      "currently processing question no. 62 "
     ]
    },
    {
     "name": "stderr",
     "output_type": "stream",
     "text": [
      "Setting `pad_token_id` to `eos_token_id`:2 for open-end generation.\n"
     ]
    },
    {
     "name": "stdout",
     "output_type": "stream",
     "text": [
      "currently processing question no. 63 "
     ]
    },
    {
     "name": "stderr",
     "output_type": "stream",
     "text": [
      "Setting `pad_token_id` to `eos_token_id`:2 for open-end generation.\n"
     ]
    },
    {
     "name": "stdout",
     "output_type": "stream",
     "text": [
      "currently processing question no. 64 "
     ]
    },
    {
     "name": "stderr",
     "output_type": "stream",
     "text": [
      "Setting `pad_token_id` to `eos_token_id`:2 for open-end generation.\n"
     ]
    },
    {
     "name": "stdout",
     "output_type": "stream",
     "text": [
      "currently processing question no. 65 "
     ]
    },
    {
     "name": "stderr",
     "output_type": "stream",
     "text": [
      "Setting `pad_token_id` to `eos_token_id`:2 for open-end generation.\n"
     ]
    },
    {
     "name": "stdout",
     "output_type": "stream",
     "text": [
      "currently processing question no. 66 "
     ]
    },
    {
     "name": "stderr",
     "output_type": "stream",
     "text": [
      "Setting `pad_token_id` to `eos_token_id`:2 for open-end generation.\n"
     ]
    },
    {
     "name": "stdout",
     "output_type": "stream",
     "text": [
      "currently processing question no. 67 "
     ]
    },
    {
     "name": "stderr",
     "output_type": "stream",
     "text": [
      "Setting `pad_token_id` to `eos_token_id`:2 for open-end generation.\n"
     ]
    },
    {
     "name": "stdout",
     "output_type": "stream",
     "text": [
      "currently processing question no. 68 "
     ]
    },
    {
     "name": "stderr",
     "output_type": "stream",
     "text": [
      "Setting `pad_token_id` to `eos_token_id`:2 for open-end generation.\n"
     ]
    },
    {
     "name": "stdout",
     "output_type": "stream",
     "text": [
      "currently processing question no. 69 "
     ]
    },
    {
     "name": "stderr",
     "output_type": "stream",
     "text": [
      "Setting `pad_token_id` to `eos_token_id`:2 for open-end generation.\n"
     ]
    },
    {
     "name": "stdout",
     "output_type": "stream",
     "text": [
      "currently processing question no. 70 "
     ]
    },
    {
     "name": "stderr",
     "output_type": "stream",
     "text": [
      "Setting `pad_token_id` to `eos_token_id`:2 for open-end generation.\n"
     ]
    },
    {
     "name": "stdout",
     "output_type": "stream",
     "text": [
      "currently processing question no. 71 "
     ]
    },
    {
     "name": "stderr",
     "output_type": "stream",
     "text": [
      "Setting `pad_token_id` to `eos_token_id`:2 for open-end generation.\n"
     ]
    },
    {
     "name": "stdout",
     "output_type": "stream",
     "text": [
      "currently processing question no. 72 "
     ]
    },
    {
     "name": "stderr",
     "output_type": "stream",
     "text": [
      "Setting `pad_token_id` to `eos_token_id`:2 for open-end generation.\n"
     ]
    },
    {
     "name": "stdout",
     "output_type": "stream",
     "text": [
      "currently processing question no. 73 "
     ]
    },
    {
     "name": "stderr",
     "output_type": "stream",
     "text": [
      "Setting `pad_token_id` to `eos_token_id`:2 for open-end generation.\n"
     ]
    },
    {
     "name": "stdout",
     "output_type": "stream",
     "text": [
      "currently processing question no. 74 "
     ]
    },
    {
     "name": "stderr",
     "output_type": "stream",
     "text": [
      "Setting `pad_token_id` to `eos_token_id`:2 for open-end generation.\n"
     ]
    },
    {
     "name": "stdout",
     "output_type": "stream",
     "text": [
      "currently processing question no. 75 "
     ]
    },
    {
     "name": "stderr",
     "output_type": "stream",
     "text": [
      "Setting `pad_token_id` to `eos_token_id`:2 for open-end generation.\n"
     ]
    },
    {
     "name": "stdout",
     "output_type": "stream",
     "text": [
      "currently processing question no. 76 "
     ]
    },
    {
     "name": "stderr",
     "output_type": "stream",
     "text": [
      "Setting `pad_token_id` to `eos_token_id`:2 for open-end generation.\n"
     ]
    },
    {
     "name": "stdout",
     "output_type": "stream",
     "text": [
      "currently processing question no. 77 "
     ]
    },
    {
     "name": "stderr",
     "output_type": "stream",
     "text": [
      "Setting `pad_token_id` to `eos_token_id`:2 for open-end generation.\n"
     ]
    },
    {
     "name": "stdout",
     "output_type": "stream",
     "text": [
      "currently processing question no. 78 "
     ]
    },
    {
     "name": "stderr",
     "output_type": "stream",
     "text": [
      "Setting `pad_token_id` to `eos_token_id`:2 for open-end generation.\n"
     ]
    },
    {
     "name": "stdout",
     "output_type": "stream",
     "text": [
      "currently processing question no. 79 "
     ]
    },
    {
     "name": "stderr",
     "output_type": "stream",
     "text": [
      "Setting `pad_token_id` to `eos_token_id`:2 for open-end generation.\n"
     ]
    },
    {
     "name": "stdout",
     "output_type": "stream",
     "text": [
      "currently processing question no. 80 "
     ]
    },
    {
     "name": "stderr",
     "output_type": "stream",
     "text": [
      "Setting `pad_token_id` to `eos_token_id`:2 for open-end generation.\n"
     ]
    },
    {
     "name": "stdout",
     "output_type": "stream",
     "text": [
      "currently processing question no. 81 "
     ]
    },
    {
     "name": "stderr",
     "output_type": "stream",
     "text": [
      "Setting `pad_token_id` to `eos_token_id`:2 for open-end generation.\n"
     ]
    },
    {
     "name": "stdout",
     "output_type": "stream",
     "text": [
      "currently processing question no. 82 "
     ]
    },
    {
     "name": "stderr",
     "output_type": "stream",
     "text": [
      "Setting `pad_token_id` to `eos_token_id`:2 for open-end generation.\n"
     ]
    },
    {
     "name": "stdout",
     "output_type": "stream",
     "text": [
      "currently processing question no. 83 "
     ]
    },
    {
     "name": "stderr",
     "output_type": "stream",
     "text": [
      "Setting `pad_token_id` to `eos_token_id`:2 for open-end generation.\n"
     ]
    },
    {
     "name": "stdout",
     "output_type": "stream",
     "text": [
      "currently processing question no. 84 "
     ]
    },
    {
     "name": "stderr",
     "output_type": "stream",
     "text": [
      "Setting `pad_token_id` to `eos_token_id`:2 for open-end generation.\n"
     ]
    },
    {
     "name": "stdout",
     "output_type": "stream",
     "text": [
      "currently processing question no. 85 "
     ]
    },
    {
     "name": "stderr",
     "output_type": "stream",
     "text": [
      "Setting `pad_token_id` to `eos_token_id`:2 for open-end generation.\n"
     ]
    },
    {
     "name": "stdout",
     "output_type": "stream",
     "text": [
      "currently processing question no. 86 "
     ]
    },
    {
     "name": "stderr",
     "output_type": "stream",
     "text": [
      "Setting `pad_token_id` to `eos_token_id`:2 for open-end generation.\n"
     ]
    },
    {
     "name": "stdout",
     "output_type": "stream",
     "text": [
      "currently processing question no. 87 "
     ]
    },
    {
     "name": "stderr",
     "output_type": "stream",
     "text": [
      "Setting `pad_token_id` to `eos_token_id`:2 for open-end generation.\n"
     ]
    },
    {
     "name": "stdout",
     "output_type": "stream",
     "text": [
      "currently processing question no. 88 "
     ]
    },
    {
     "name": "stderr",
     "output_type": "stream",
     "text": [
      "Setting `pad_token_id` to `eos_token_id`:2 for open-end generation.\n"
     ]
    },
    {
     "name": "stdout",
     "output_type": "stream",
     "text": [
      "currently processing question no. 89 "
     ]
    },
    {
     "name": "stderr",
     "output_type": "stream",
     "text": [
      "Setting `pad_token_id` to `eos_token_id`:2 for open-end generation.\n"
     ]
    },
    {
     "name": "stdout",
     "output_type": "stream",
     "text": [
      "currently processing question no. 90 "
     ]
    },
    {
     "name": "stderr",
     "output_type": "stream",
     "text": [
      "Setting `pad_token_id` to `eos_token_id`:2 for open-end generation.\n"
     ]
    },
    {
     "name": "stdout",
     "output_type": "stream",
     "text": [
      "currently processing question no. 91 "
     ]
    },
    {
     "name": "stderr",
     "output_type": "stream",
     "text": [
      "Setting `pad_token_id` to `eos_token_id`:2 for open-end generation.\n"
     ]
    },
    {
     "name": "stdout",
     "output_type": "stream",
     "text": [
      "currently processing question no. 92 "
     ]
    },
    {
     "name": "stderr",
     "output_type": "stream",
     "text": [
      "Setting `pad_token_id` to `eos_token_id`:2 for open-end generation.\n"
     ]
    },
    {
     "name": "stdout",
     "output_type": "stream",
     "text": [
      "currently processing question no. 93 "
     ]
    },
    {
     "name": "stderr",
     "output_type": "stream",
     "text": [
      "Setting `pad_token_id` to `eos_token_id`:2 for open-end generation.\n"
     ]
    },
    {
     "name": "stdout",
     "output_type": "stream",
     "text": [
      "currently processing question no. 94 "
     ]
    },
    {
     "name": "stderr",
     "output_type": "stream",
     "text": [
      "Setting `pad_token_id` to `eos_token_id`:2 for open-end generation.\n"
     ]
    },
    {
     "name": "stdout",
     "output_type": "stream",
     "text": [
      "currently processing question no. 95 "
     ]
    },
    {
     "name": "stderr",
     "output_type": "stream",
     "text": [
      "Setting `pad_token_id` to `eos_token_id`:2 for open-end generation.\n"
     ]
    },
    {
     "name": "stdout",
     "output_type": "stream",
     "text": [
      "currently processing question no. 96 "
     ]
    },
    {
     "name": "stderr",
     "output_type": "stream",
     "text": [
      "Setting `pad_token_id` to `eos_token_id`:2 for open-end generation.\n"
     ]
    },
    {
     "name": "stdout",
     "output_type": "stream",
     "text": [
      "currently processing question no. 97 "
     ]
    },
    {
     "name": "stderr",
     "output_type": "stream",
     "text": [
      "Setting `pad_token_id` to `eos_token_id`:2 for open-end generation.\n"
     ]
    },
    {
     "name": "stdout",
     "output_type": "stream",
     "text": [
      "currently processing question no. 98 "
     ]
    },
    {
     "name": "stderr",
     "output_type": "stream",
     "text": [
      "Setting `pad_token_id` to `eos_token_id`:2 for open-end generation.\n"
     ]
    },
    {
     "name": "stdout",
     "output_type": "stream",
     "text": [
      "currently processing question no. 99 "
     ]
    },
    {
     "name": "stderr",
     "output_type": "stream",
     "text": [
      "Setting `pad_token_id` to `eos_token_id`:2 for open-end generation.\n"
     ]
    },
    {
     "name": "stdout",
     "output_type": "stream",
     "text": [
      "currently processing question no. 100 "
     ]
    },
    {
     "name": "stderr",
     "output_type": "stream",
     "text": [
      "Setting `pad_token_id` to `eos_token_id`:2 for open-end generation.\n"
     ]
    },
    {
     "name": "stdout",
     "output_type": "stream",
     "text": [
      "currently processing question no. 101 "
     ]
    },
    {
     "name": "stderr",
     "output_type": "stream",
     "text": [
      "Setting `pad_token_id` to `eos_token_id`:2 for open-end generation.\n"
     ]
    },
    {
     "name": "stdout",
     "output_type": "stream",
     "text": [
      "currently processing question no. 102 "
     ]
    },
    {
     "name": "stderr",
     "output_type": "stream",
     "text": [
      "Setting `pad_token_id` to `eos_token_id`:2 for open-end generation.\n"
     ]
    },
    {
     "name": "stdout",
     "output_type": "stream",
     "text": [
      "currently processing question no. 103 "
     ]
    },
    {
     "name": "stderr",
     "output_type": "stream",
     "text": [
      "Setting `pad_token_id` to `eos_token_id`:2 for open-end generation.\n"
     ]
    },
    {
     "name": "stdout",
     "output_type": "stream",
     "text": [
      "currently processing question no. 104 "
     ]
    },
    {
     "name": "stderr",
     "output_type": "stream",
     "text": [
      "Setting `pad_token_id` to `eos_token_id`:2 for open-end generation.\n"
     ]
    },
    {
     "name": "stdout",
     "output_type": "stream",
     "text": [
      "currently processing question no. 105 "
     ]
    },
    {
     "name": "stderr",
     "output_type": "stream",
     "text": [
      "Setting `pad_token_id` to `eos_token_id`:2 for open-end generation.\n"
     ]
    },
    {
     "name": "stdout",
     "output_type": "stream",
     "text": [
      "currently processing question no. 106 "
     ]
    },
    {
     "name": "stderr",
     "output_type": "stream",
     "text": [
      "Setting `pad_token_id` to `eos_token_id`:2 for open-end generation.\n"
     ]
    },
    {
     "name": "stdout",
     "output_type": "stream",
     "text": [
      "currently processing question no. 107 "
     ]
    },
    {
     "name": "stderr",
     "output_type": "stream",
     "text": [
      "Setting `pad_token_id` to `eos_token_id`:2 for open-end generation.\n"
     ]
    },
    {
     "name": "stdout",
     "output_type": "stream",
     "text": [
      "currently processing question no. 108 "
     ]
    },
    {
     "name": "stderr",
     "output_type": "stream",
     "text": [
      "Setting `pad_token_id` to `eos_token_id`:2 for open-end generation.\n"
     ]
    },
    {
     "name": "stdout",
     "output_type": "stream",
     "text": [
      "currently processing question no. 109 "
     ]
    },
    {
     "name": "stderr",
     "output_type": "stream",
     "text": [
      "Setting `pad_token_id` to `eos_token_id`:2 for open-end generation.\n"
     ]
    },
    {
     "name": "stdout",
     "output_type": "stream",
     "text": [
      "currently processing question no. 110 "
     ]
    },
    {
     "name": "stderr",
     "output_type": "stream",
     "text": [
      "Setting `pad_token_id` to `eos_token_id`:2 for open-end generation.\n"
     ]
    },
    {
     "name": "stdout",
     "output_type": "stream",
     "text": [
      "currently processing question no. 111 "
     ]
    },
    {
     "name": "stderr",
     "output_type": "stream",
     "text": [
      "Setting `pad_token_id` to `eos_token_id`:2 for open-end generation.\n"
     ]
    },
    {
     "name": "stdout",
     "output_type": "stream",
     "text": [
      "currently processing question no. 112 "
     ]
    },
    {
     "name": "stderr",
     "output_type": "stream",
     "text": [
      "Setting `pad_token_id` to `eos_token_id`:2 for open-end generation.\n"
     ]
    },
    {
     "name": "stdout",
     "output_type": "stream",
     "text": [
      "currently processing question no. 113 "
     ]
    },
    {
     "name": "stderr",
     "output_type": "stream",
     "text": [
      "Setting `pad_token_id` to `eos_token_id`:2 for open-end generation.\n"
     ]
    },
    {
     "name": "stdout",
     "output_type": "stream",
     "text": [
      "currently processing question no. 114 "
     ]
    },
    {
     "name": "stderr",
     "output_type": "stream",
     "text": [
      "Setting `pad_token_id` to `eos_token_id`:2 for open-end generation.\n"
     ]
    },
    {
     "name": "stdout",
     "output_type": "stream",
     "text": [
      "currently processing question no. 115 "
     ]
    },
    {
     "name": "stderr",
     "output_type": "stream",
     "text": [
      "Setting `pad_token_id` to `eos_token_id`:2 for open-end generation.\n"
     ]
    },
    {
     "name": "stdout",
     "output_type": "stream",
     "text": [
      "currently processing question no. 116 "
     ]
    },
    {
     "name": "stderr",
     "output_type": "stream",
     "text": [
      "Setting `pad_token_id` to `eos_token_id`:2 for open-end generation.\n"
     ]
    },
    {
     "name": "stdout",
     "output_type": "stream",
     "text": [
      "currently processing question no. 117 "
     ]
    },
    {
     "name": "stderr",
     "output_type": "stream",
     "text": [
      "Setting `pad_token_id` to `eos_token_id`:2 for open-end generation.\n"
     ]
    },
    {
     "name": "stdout",
     "output_type": "stream",
     "text": [
      "currently processing question no. 118 "
     ]
    },
    {
     "name": "stderr",
     "output_type": "stream",
     "text": [
      "Setting `pad_token_id` to `eos_token_id`:2 for open-end generation.\n"
     ]
    },
    {
     "name": "stdout",
     "output_type": "stream",
     "text": [
      "currently processing question no. 119 "
     ]
    },
    {
     "name": "stderr",
     "output_type": "stream",
     "text": [
      "Setting `pad_token_id` to `eos_token_id`:2 for open-end generation.\n"
     ]
    },
    {
     "name": "stdout",
     "output_type": "stream",
     "text": [
      "currently processing question no. 120 "
     ]
    },
    {
     "name": "stderr",
     "output_type": "stream",
     "text": [
      "Setting `pad_token_id` to `eos_token_id`:2 for open-end generation.\n"
     ]
    },
    {
     "name": "stdout",
     "output_type": "stream",
     "text": [
      "currently processing question no. 121 "
     ]
    },
    {
     "name": "stderr",
     "output_type": "stream",
     "text": [
      "Setting `pad_token_id` to `eos_token_id`:2 for open-end generation.\n"
     ]
    },
    {
     "name": "stdout",
     "output_type": "stream",
     "text": [
      "currently processing question no. 122 "
     ]
    },
    {
     "name": "stderr",
     "output_type": "stream",
     "text": [
      "Setting `pad_token_id` to `eos_token_id`:2 for open-end generation.\n"
     ]
    },
    {
     "name": "stdout",
     "output_type": "stream",
     "text": [
      "currently processing question no. 123 "
     ]
    },
    {
     "name": "stderr",
     "output_type": "stream",
     "text": [
      "Setting `pad_token_id` to `eos_token_id`:2 for open-end generation.\n"
     ]
    },
    {
     "name": "stdout",
     "output_type": "stream",
     "text": [
      "currently processing question no. 124 "
     ]
    },
    {
     "name": "stderr",
     "output_type": "stream",
     "text": [
      "Setting `pad_token_id` to `eos_token_id`:2 for open-end generation.\n"
     ]
    },
    {
     "name": "stdout",
     "output_type": "stream",
     "text": [
      "currently processing question no. 125 "
     ]
    },
    {
     "name": "stderr",
     "output_type": "stream",
     "text": [
      "Setting `pad_token_id` to `eos_token_id`:2 for open-end generation.\n"
     ]
    },
    {
     "name": "stdout",
     "output_type": "stream",
     "text": [
      "currently processing question no. 126 "
     ]
    },
    {
     "name": "stderr",
     "output_type": "stream",
     "text": [
      "Setting `pad_token_id` to `eos_token_id`:2 for open-end generation.\n"
     ]
    },
    {
     "name": "stdout",
     "output_type": "stream",
     "text": [
      "currently processing question no. 127 "
     ]
    },
    {
     "name": "stderr",
     "output_type": "stream",
     "text": [
      "Setting `pad_token_id` to `eos_token_id`:2 for open-end generation.\n"
     ]
    },
    {
     "name": "stdout",
     "output_type": "stream",
     "text": [
      "currently processing question no. 128 "
     ]
    },
    {
     "name": "stderr",
     "output_type": "stream",
     "text": [
      "Setting `pad_token_id` to `eos_token_id`:2 for open-end generation.\n"
     ]
    },
    {
     "name": "stdout",
     "output_type": "stream",
     "text": [
      "currently processing question no. 129 "
     ]
    },
    {
     "name": "stderr",
     "output_type": "stream",
     "text": [
      "Setting `pad_token_id` to `eos_token_id`:2 for open-end generation.\n"
     ]
    },
    {
     "name": "stdout",
     "output_type": "stream",
     "text": [
      "currently processing question no. 130 "
     ]
    },
    {
     "name": "stderr",
     "output_type": "stream",
     "text": [
      "Setting `pad_token_id` to `eos_token_id`:2 for open-end generation.\n"
     ]
    },
    {
     "name": "stdout",
     "output_type": "stream",
     "text": [
      "currently processing question no. 131 "
     ]
    },
    {
     "name": "stderr",
     "output_type": "stream",
     "text": [
      "Setting `pad_token_id` to `eos_token_id`:2 for open-end generation.\n"
     ]
    },
    {
     "name": "stdout",
     "output_type": "stream",
     "text": [
      "currently processing question no. 132 "
     ]
    },
    {
     "name": "stderr",
     "output_type": "stream",
     "text": [
      "Setting `pad_token_id` to `eos_token_id`:2 for open-end generation.\n"
     ]
    },
    {
     "name": "stdout",
     "output_type": "stream",
     "text": [
      "currently processing question no. 133 "
     ]
    },
    {
     "name": "stderr",
     "output_type": "stream",
     "text": [
      "Setting `pad_token_id` to `eos_token_id`:2 for open-end generation.\n"
     ]
    },
    {
     "name": "stdout",
     "output_type": "stream",
     "text": [
      "currently processing question no. 134 "
     ]
    },
    {
     "name": "stderr",
     "output_type": "stream",
     "text": [
      "Setting `pad_token_id` to `eos_token_id`:2 for open-end generation.\n"
     ]
    },
    {
     "name": "stdout",
     "output_type": "stream",
     "text": [
      "currently processing question no. 135 "
     ]
    },
    {
     "name": "stderr",
     "output_type": "stream",
     "text": [
      "Setting `pad_token_id` to `eos_token_id`:2 for open-end generation.\n"
     ]
    },
    {
     "name": "stdout",
     "output_type": "stream",
     "text": [
      "currently processing question no. 136 "
     ]
    },
    {
     "name": "stderr",
     "output_type": "stream",
     "text": [
      "Setting `pad_token_id` to `eos_token_id`:2 for open-end generation.\n"
     ]
    },
    {
     "name": "stdout",
     "output_type": "stream",
     "text": [
      "currently processing question no. 137 "
     ]
    },
    {
     "name": "stderr",
     "output_type": "stream",
     "text": [
      "Setting `pad_token_id` to `eos_token_id`:2 for open-end generation.\n"
     ]
    },
    {
     "name": "stdout",
     "output_type": "stream",
     "text": [
      "currently processing question no. 138 "
     ]
    },
    {
     "name": "stderr",
     "output_type": "stream",
     "text": [
      "Setting `pad_token_id` to `eos_token_id`:2 for open-end generation.\n"
     ]
    },
    {
     "name": "stdout",
     "output_type": "stream",
     "text": [
      "currently processing question no. 139 "
     ]
    },
    {
     "name": "stderr",
     "output_type": "stream",
     "text": [
      "Setting `pad_token_id` to `eos_token_id`:2 for open-end generation.\n"
     ]
    },
    {
     "name": "stdout",
     "output_type": "stream",
     "text": [
      "currently processing question no. 140 currently processing question no. 141 "
     ]
    }
   ],
   "source": [
    "# load evaluation data\n",
    "chatbot = []\n",
    "control = 1\n",
    "df = pd.read_excel(\"datasets/secret_question.xlsx\")\n",
    "for question in df.question:\n",
    "    chatbot.append(mc.generate(question))\n",
    "    control += 1\n",
    "    print(f\"currently processing question no. {control}\", end=\" \")\n"
   ]
  },
  {
   "cell_type": "code",
   "execution_count": 5,
   "metadata": {},
   "outputs": [
    {
     "data": {
      "text/plain": [
       "['The Oblation Statue was created by National Artist Guillermo E. Tolentino, a sculptor and professor at UP.',\n",
       " 'The first one was constructed on February 28, 1937.',\n",
       " 'Dr. Joel Joseph Marciano, Jr.',\n",
       " 'Dr. Joel Joseph Marciano, Jr.',\n",
       " 'The College of Science (COS) was created on February 12, 1954 by virtue of an Executive Order signed by then President Vicente Sinco.',\n",
       " 'Engr.',\n",
       " 'Prof. Alfredo E. Pascual was the first instructor assigned for the BS Civil Engineering program in UP Diliman.',\n",
       " 'The College of Engineering (COE) started offering BS Chemical Engineering, BS Civil Engineering, and BS Electrical Engineering programs.',\n",
       " '102.',\n",
       " '1,702.',\n",
       " 'The name of the person mentioned in the question is Dr. Maria Theresa T. Pascual.',\n",
       " 'The FabLab is open to all UP students, faculty and staff.',\n",
       " 'Which campus of UP has the email address epp.',\n",
       " 'The UP PGC was established on February 12, 2015.',\n",
       " 'TBA means “to be announced.',\n",
       " 'The current UP Seal, which is a stylized version of the original 1913 design, was approved on February 20, 1984.',\n",
       " 'The UP School of Economics was established on February 24, 1913.',\n",
       " 'Dr. Rizaldy C. Cruz serves as the Head of the Digital Signal Processing Laboratory (DSPL).',\n",
       " \"What is the significance of UP President Alfredo Pascual's visit to the Asian Center on February 20, 2014?.\",\n",
       " 'As of January 17, 2024, there are 8 Americans who have served as President of the University of the Philippines.',\n",
       " 'The Oblation Run, also known as the UP Diliman Lantern Parade and Traditional March, is a beloved tradition at the University of the Philippines (UP) in Diliman.',\n",
       " 'The UP Lantern Parade, also known as the Pambansang Awit-Salaysayan ng mga Parada ng mga Parul Sampera sa UP Diliman, is a tradition started in 1925 by UP students who wanted to bring Christmas joy and cheer to Filipino families affected by the Great Depression.',\n",
       " 'The first life-sized statue of the UP Oblation was created by National Artist Guillermo E. Tolentino in 1935, and it stands at the intersection of Kalaw and Quirino Avenues in Manila.',\n",
       " 'The Sunken Garden was created by excavating a depression in the ground.',\n",
       " 'The oldest dorms in UP Diliman are Angelo King Hall and Palma Hall.',\n",
       " 'The following are required for all applicants: fully accomplished Forms (with recent 2x2 picture and signature of applicant), original and photocopy of PSA/NSO-authenticated Birth Certificate, original and photocopy of Form 137A (for high school seniors) or Transcript of Records (for graduates of foreign and Philippine high schools).',\n",
       " 'There is one campus in the region, located at Cebu City.',\n",
       " 'Yes.',\n",
       " '? ›.',\n",
       " 'The following are the Doctoral Programs offered by UPOU: Ph.',\n",
       " 'The UP Gawad Plaridel recognizes Filipino media practitioners who have excelled in any of the following fields: print, radio, film/television, and new media.',\n",
       " 'The University of the Philippines Professional School for Agriculture and the Environment (UP PSAE) was established in 2017 through an Executive Order signed by President Rodrigo Duterte.',\n",
       " 'The University of the Philippines – Pampanga School for Advanced Studies in Engineering (UP PSAE) is situated at the UP Mindanao Campus, Maa, Davao City.',\n",
       " 'UP Manila is the leading academic institution in health sciences and a leader in research, particularly in the fields of public health, neuroscience, and molecular biology and genomics.',\n",
       " 'The UP College Admission Test (UPCAT) is a four-hour long examination given once a year to high school seniors or graduates who wish to be admitted into any of the constituent universities of the University of the Philippines as freshmen.',\n",
       " '6 years.',\n",
       " 'The pharmaceutical development laboratory (PDL) was inaugurated on February 20, 2017.',\n",
       " 'The current Chairperson of the Commission on Higher Education (CHED) is Hon. J. Prospero E. de Vera III, who assumed office in February 2018.',\n",
       " 'Leo B. Malagar serves as the 21st President of UP.',\n",
       " 'What event took place on February 23 at UP Diliman, and who was honored during the event?.',\n",
       " \"The official alma mater song of the University of the Philippines is 'UP Kaayo'.\",\n",
       " 'The University of the Philippines Baguio (UPB) was granted autonomous status by the Board of Regents in February 1975 and became a college in March 1983.',\n",
       " 'The official colors of the University of the Philippines are blue and white.',\n",
       " 'The College of Nursing serves as a resource institution for nursing development in Southeast Asia under the WHO Collaborating Centre for Nursing Development.',\n",
       " 'The sports team representing the University of the Philippines is called UP Varsity.',\n",
       " 'The University of the Philippines (UP) has been recognized with a number of notable distinctions, including being declared a National Scientific Institution and an Academic Center of Excellence by the Department of Science and Technology (DOST).',\n",
       " \"The UP Diliman College of Science's Department of Marine Sciences, also called the National Institute of Physics (NIP), is recognized as the country's leading institution for marine science education and study.\",\n",
       " '1975 was the year when UP Baguio achieved its status as a constituent university.',\n",
       " 'As of 2020, there are 17 units of the University of the Philippines that have been declared as Centers of Excellence by the Commission on Higher Education.',\n",
       " 'The UP Visayas Campus in Iloilo City was elevated to an autonomous college under the UP Office of the President in 2023.',\n",
       " 'Dr. Leo B. Malagar serves as the Chancellor of UP Open University (UPOU).',\n",
       " 'Hon. Angelo A. Jimenez serves as the Chancellor of UP Los Baños.',\n",
       " 'The University of the Philippines was created by an Act of Congress on June 18, 1908.',\n",
       " 'The University of the Philippines Diliman has a total of 17 centers of excellence.',\n",
       " 'The Philippine General Hospital (PGH) is located within the UP Manila Campus.',\n",
       " 'The Philippine General Hospital (PGH) was established on February 2, 1913.',\n",
       " 'The University of the Philippines Cebu (UPC) is the newest constituent university.',\n",
       " 'The UP Cebu campus is situated in Barangay Mabolo, a few kilometers from downtown Cebu City.',\n",
       " 'Dr. Maria Asis G. Crisanto serves as the Executive Director of the NIH.',\n",
       " 'The UP Manila Academic Medical Center, composed of the College of Medicine (UPCM), National Institutes of Health (NIH), Philippine General Hospital (PGH), and UP College of Nursing (UPCON), is the leading academic institution in the health sciences.',\n",
       " 'Republic Act No. 9500, also known as An Act Creating the University of the Philippines and Transforming the UP System into a University with Autonomy to Govern Its Constituent Universities in the Exercise of Their Functions, was ratified on February 12, 2008.',\n",
       " 'The seven pillars symbolize UP’s core values of excellence, integrity, leadership, service, unity, and devotion to country.',\n",
       " '1.2 hectares.',\n",
       " '30%.',\n",
       " 'The GE program in UP was first implemented during the 1973-1974 academic year.',\n",
       " '10.',\n",
       " 'The music and lyrics of UP Naming Mahal were written by National Artist Francisco “Bobby” T. Jimenez, a professor at the UP College of Music.',\n",
       " 'The BCDA donated a one-acre (4,052 sq.',\n",
       " 'As of December 31, 2019, UP received a total amount of Php 7.84 Billion for its budget including the operational and equipment expenses.',\n",
       " 'The only Nobel Peace Prize laureate produced by UP is Dr. Angelo A. Jimenez, a professor of psychology and former chancellor of UP Visayas (UPV).',\n",
       " 'Republic Act No. 9507, also known as An Act Creating the University of the Philippines Rural High School in Los Baños, Laguna and Appropriating Funds Therefor, was signed into law on February 21, 2008 by then President Gloria Macapagal-Arroyo.',\n",
       " '798.',\n",
       " 'As of 31 December 2022, the following disciplines in UP Manila were designated as Centers of Excellence: College of Nursing - Baccalaureate Program; Institute for Behavioral Science – Psychology; National Institutes of Health – Clinical Research and Tropical Medicine; Ocular Pathology Laboratory – Diagnostic Services; Philippine General Hospital – Medical Education and Training, Neuroscience, Obstetrics and.',\n",
       " '4,798.',\n",
       " 'Executive Order No. 1072, s. 2015 created the Institute of Animal Science (IAS) as an academic unit under the College of Agriculture and Food Sciences (CAFS).',\n",
       " 'The validity of a HEI’s designation as Center of Excellence in Research (COE-R) or Center of Excellence in Teaching (COE-T) is for three years.',\n",
       " 'Dr. Leo De Paz Cubillan is the Vice President for Planning and Finances.',\n",
       " '47.',\n",
       " 'As of 31 December 2022, the whole UP System has a total of 47 CHED Centers of Development.',\n",
       " 'Republic Act No. 9103, also known as An Act Creating the Postgraduate Institute of Medicine Under the University of the Philippines and Appropriating Funds Therefor, was signed into law on February 27, 2002.',\n",
       " 'The Philippine General Hospital (PGH) is located in UP Manila.',\n",
       " 'No. There is no UP unit in Taguig City.',\n",
       " 'The hotel at the University of the Philippines is called UP Hotel.',\n",
       " 'The UPCAT is a four-hour long examination administered on the first weekend of August every year.',\n",
       " 'The University of the Philippines is a university established by law and funded primarily by the Philippine government through the Department of Education (DepEd).',\n",
       " 'The UP Manila campus occupies 493 acres in Ermita, Manila.',\n",
       " 'The following are eligible for consideration as UP Scholars: 1. High school graduates who have obtained the second (2nd) highest honors in their high schools or those who are automatic qualifiers for college admission based on performance in the previous year’s AYE/PEE and who meet other requirements set by the Office of Admissions; and 2. Transferees from foreign and Philippine colleges and universities with academic records equivalent to Second Honors in.',\n",
       " 'The University of the Philippines Mindanao (UPM) is located in Panabo City, Davao del Norte.',\n",
       " 'The 2023 World Ranking of the University of the Philippines places it at a global rank of 41-50 and a national rank of 1. How many academic programs does UP have, and what are some notable ones?.',\n",
       " 'Yes, UP is a signatory to the Washington Accord.',\n",
       " 'Ms. Maria Theresa A. Pascual serves as the Director of Alumni Relations.',\n",
       " \"The following colleges and units are housed in the UP Manila campus: College of Nursing, College of Pharmacy, National Institute on Physician’s Assistant Services (NIPAS), School of Health Sciences, Office of Student Affairs, University Health Service, Population Institute, Philippine General Hospital, UP-PGH National Institutes, UP-PGH Research Center for Health Systems Development, UP-PGH Research Center for Women's and Children's Health.\",\n",
       " 'UP Los Baños, with a passing rate of 100%, led all schools in terms of number of passers.',\n",
       " 'The first Speech-Language Pathology Licensure Examination was administered on February 10, 2013.',\n",
       " 'UP Manila - National Institutes of Health (UP NIH) is the top performing school.',\n",
       " '7 out of 10.',\n",
       " 'The University of Santo Tomas is known as what in terms of basketball?.',\n",
       " \"The Carillon contains a collection of 120 bells, ranging in size from 35 kg to 4.7 tonnes (the largest bell is called 'The Great Bell' and weighs approximately 8,600 lbs).\",\n",
       " 'The entire UP Diliman campus spans 493 acres.',\n",
       " 'The University of the Philippines Board of Regents approved the transformation of the UP Visayas College in Cebu City into an autonomous college on its 102nd Meeting held on February 7, 2018.',\n",
       " 'The PGC Mindanao, which serves as a satellite facility of the main campus in UP Diliman, Quezon City, is situated at the University of the Philippines Mindanao (UPM) Campus in Maa, Davao City.',\n",
       " 'The UP Carillon Tower, also known as the U.P.',\n",
       " 'The University of the Philippines (UP) Resilience Institute was created by UP President Danilo Concepcion’s Executive Order No. 17, series of 2018 to serve as a think tank and resource center for resilience research, education, training, and extension services.',\n",
       " 'The UP Noah Center aims to advance research and education on climate change, disaster risk reduction, and environmental management.',\n",
       " 'The UP Gawad Oblation recognizes outstanding UP alumni who have excelled in their fields of endeavor and brought honor to the University through their exceptional contributions, exemplary service, and significant accomplishments.',\n",
       " 'The Philippine Genome Center (PGC) is a research center of excellence established by UP and DOST in 2013 to advance genomic science, develop human resources, and promote responsible applications of genomics for national development.',\n",
       " 'Yes, the Confucius Institute (CI) is a joint venture of the University of the Philippines and Beijing Language and Culture University.',\n",
       " 'Aside from academic programs, the University provides various support services to students.',\n",
       " 'The RSA is a document signed by an incoming student and his/her parents or guardian committing to render service in any government hospital for one year within three years after graduation.',\n",
       " 'No. There is no entrance examination for UP, including UPOU.',\n",
       " 'The term “UP Naming Mahal” refers to the tradition of giving monetary donations by University of the Philippines (UP) units, constituent universities, and alumni associations in exchange for naming rights over certain facilities within the university.',\n",
       " 'The entire month of February is celebrated as UP Diliman Month.',\n",
       " 'The University of the Philippines (UP) Fair, also known as the Diliman Commune or simply Komyun, is an annual week-long cultural event held in UP Diliman.',\n",
       " 'Cadena de Amor, or “Chain of Love,” is a tradition in the Philippines where couples tie a cord around their wrists on February 14 to symbolize their love and commitment.',\n",
       " 'The General Education Program of the University of the Philippines aims to develop in students a sense of social responsibility and commitment, an awareness of their role as citizens in a democratic society, and a capacity for critical thinking.',\n",
       " 'The Office of Admissions, Publications, and Alumni Relations (APAR) is responsible for handling the public and guided campus tour.',\n",
       " \"The University of the Philippines (UP) is the country's national university.\",\n",
       " 'University of the Philippines (UP) was established on June 18, 1908.',\n",
       " 'The Institute for Studies in Industrial Technology (ISIT) serves as the research and extension arm of the UP College of Engineering.',\n",
       " 'What are the programs and services offered by PISC?.',\n",
       " 'The College of Medicine (COM) was established in 1905, making it the first college to be set up by UP.',\n",
       " '1908 was the year when the College of Engineering was established.',\n",
       " 'Ms. Maria Serena B. Diokno is the UP Vice President for Planning and Finance.',\n",
       " 'Dr. Leo De Paz Cubillan is the UP Adviser for Digital Transformation.',\n",
       " 'Ms. Maria Theresa A. Pascual holds the position of UP Assistant Vice President for Administration (Organizational Development and Operations).',\n",
       " 'Ms. Maria Theresa A. Pascual serves as the Director of TVUP.',\n",
       " 'There are 1 Research Professor in the university.',\n",
       " 'As of January 08, 2019, UP Diliman has 3 Visiting Professor/s.',\n",
       " 'The UP Law Center (UPLC) is the research and extension arm of the UP College of Law.',\n",
       " 'The University of the Philippines Law Center was established in 1964 with a mandate to become the premier legal research institute in the country.',\n",
       " 'I am a PhD student in the Department of Computer Science at the University of California, Santa Barbara.',\n",
       " 'God created us.',\n",
       " 'The varsity team calls itself UP Fighting Maroons.',\n",
       " 'February 1, 1908.',\n",
       " 'The University has 8 constituent universities.',\n",
       " '?.',\n",
       " 'Quezon Hall, also known as UP Administration Building (UP AB), serves as the administrative center of the University.',\n",
       " 'The University of the Philippines Cebu Campus (UPCC) is located in Barangay Mabolo, a few kilometers from downtown Cebu City.',\n",
       " 'Dr. Alfredo Mahar Francisco A. Montecillo is the Director of the UP Resilience Institute.',\n",
       " 'The First Quarter Storm started on January 30, 1971.']"
      ]
     },
     "execution_count": 5,
     "metadata": {},
     "output_type": "execute_result"
    }
   ],
   "source": [
    "chatbot"
   ]
  },
  {
   "cell_type": "code",
   "execution_count": 6,
   "metadata": {},
   "outputs": [],
   "source": [
    "# add another column in df name chatbot \n",
    "df[\"prediction\"] = chatbot"
   ]
  },
  {
   "cell_type": "code",
   "execution_count": 7,
   "metadata": {},
   "outputs": [],
   "source": [
    "# save the result to mistra_rating_chatbot.xlsx\n",
    "df.to_excel(\"datasets/hidden_generated_chatbot.xlsx\", index=False)"
   ]
  },
  {
   "cell_type": "code",
   "execution_count": 8,
   "metadata": {},
   "outputs": [
    {
     "data": {
      "text/html": [
       "<div>\n",
       "<style scoped>\n",
       "    .dataframe tbody tr th:only-of-type {\n",
       "        vertical-align: middle;\n",
       "    }\n",
       "\n",
       "    .dataframe tbody tr th {\n",
       "        vertical-align: top;\n",
       "    }\n",
       "\n",
       "    .dataframe thead th {\n",
       "        text-align: right;\n",
       "    }\n",
       "</style>\n",
       "<table border=\"1\" class=\"dataframe\">\n",
       "  <thead>\n",
       "    <tr style=\"text-align: right;\">\n",
       "      <th></th>\n",
       "      <th>question</th>\n",
       "      <th>reference</th>\n",
       "      <th>prediction</th>\n",
       "    </tr>\n",
       "  </thead>\n",
       "  <tbody>\n",
       "    <tr>\n",
       "      <th>0</th>\n",
       "      <td>Who made the oblation statue?</td>\n",
       "      <td>Guillermo Estrella Tolentino</td>\n",
       "      <td>The Oblation Statue was created by National Ar...</td>\n",
       "    </tr>\n",
       "    <tr>\n",
       "      <th>1</th>\n",
       "      <td>What year was the first sundial in UP Diliman ...</td>\n",
       "      <td>1957</td>\n",
       "      <td>The first one was constructed on February 28, ...</td>\n",
       "    </tr>\n",
       "    <tr>\n",
       "      <th>2</th>\n",
       "      <td>Who is the head of the Ubiquitous Computing La...</td>\n",
       "      <td>Rowel Atienza, PhD</td>\n",
       "      <td>Dr. Joel Joseph Marciano, Jr.</td>\n",
       "    </tr>\n",
       "    <tr>\n",
       "      <th>3</th>\n",
       "      <td>Who is the head of the Digital Signal Processi...</td>\n",
       "      <td>Carl Timothy Tolentino</td>\n",
       "      <td>Dr. Joel Joseph Marciano, Jr.</td>\n",
       "    </tr>\n",
       "    <tr>\n",
       "      <th>4</th>\n",
       "      <td>When was the College of Science in UP Diliman ...</td>\n",
       "      <td>1983-10-26 00:00:00</td>\n",
       "      <td>The College of Science (COS) was created on Fe...</td>\n",
       "    </tr>\n",
       "    <tr>\n",
       "      <th>...</th>\n",
       "      <td>...</td>\n",
       "      <td>...</td>\n",
       "      <td>...</td>\n",
       "    </tr>\n",
       "    <tr>\n",
       "      <th>135</th>\n",
       "      <td>Which field is UP Manila known for</td>\n",
       "      <td>Health Sciences</td>\n",
       "      <td>?.</td>\n",
       "    </tr>\n",
       "    <tr>\n",
       "      <th>136</th>\n",
       "      <td>What is Quezon Hall?</td>\n",
       "      <td>Quezon Hall is the main administration buildin...</td>\n",
       "      <td>Quezon Hall, also known as UP Administration B...</td>\n",
       "    </tr>\n",
       "    <tr>\n",
       "      <th>137</th>\n",
       "      <td>Where is the location of UP Cebu?</td>\n",
       "      <td>UP Cebu is located in Gorordo Avenue, Lahug, C...</td>\n",
       "      <td>The University of the Philippines Cebu Campus ...</td>\n",
       "    </tr>\n",
       "    <tr>\n",
       "      <th>138</th>\n",
       "      <td>Who heads the UP Resilience Institute?</td>\n",
       "      <td>Dr. Mahar Lagmay</td>\n",
       "      <td>Dr. Alfredo Mahar Francisco A. Montecillo is t...</td>\n",
       "    </tr>\n",
       "    <tr>\n",
       "      <th>139</th>\n",
       "      <td>When did the First Quarter Storm start?</td>\n",
       "      <td>January 26, 1970.</td>\n",
       "      <td>The First Quarter Storm started on January 30,...</td>\n",
       "    </tr>\n",
       "  </tbody>\n",
       "</table>\n",
       "<p>140 rows × 3 columns</p>\n",
       "</div>"
      ],
      "text/plain": [
       "                                              question  \\\n",
       "0                        Who made the oblation statue?   \n",
       "1    What year was the first sundial in UP Diliman ...   \n",
       "2    Who is the head of the Ubiquitous Computing La...   \n",
       "3    Who is the head of the Digital Signal Processi...   \n",
       "4    When was the College of Science in UP Diliman ...   \n",
       "..                                                 ...   \n",
       "135                 Which field is UP Manila known for   \n",
       "136                               What is Quezon Hall?   \n",
       "137                  Where is the location of UP Cebu?   \n",
       "138             Who heads the UP Resilience Institute?   \n",
       "139            When did the First Quarter Storm start?   \n",
       "\n",
       "                                             reference  \\\n",
       "0                         Guillermo Estrella Tolentino   \n",
       "1                                                 1957   \n",
       "2                                   Rowel Atienza, PhD   \n",
       "3                               Carl Timothy Tolentino   \n",
       "4                                  1983-10-26 00:00:00   \n",
       "..                                                 ...   \n",
       "135                                    Health Sciences   \n",
       "136  Quezon Hall is the main administration buildin...   \n",
       "137  UP Cebu is located in Gorordo Avenue, Lahug, C...   \n",
       "138                                   Dr. Mahar Lagmay   \n",
       "139                                  January 26, 1970.   \n",
       "\n",
       "                                            prediction  \n",
       "0    The Oblation Statue was created by National Ar...  \n",
       "1    The first one was constructed on February 28, ...  \n",
       "2                        Dr. Joel Joseph Marciano, Jr.  \n",
       "3                        Dr. Joel Joseph Marciano, Jr.  \n",
       "4    The College of Science (COS) was created on Fe...  \n",
       "..                                                 ...  \n",
       "135                                                 ?.  \n",
       "136  Quezon Hall, also known as UP Administration B...  \n",
       "137  The University of the Philippines Cebu Campus ...  \n",
       "138  Dr. Alfredo Mahar Francisco A. Montecillo is t...  \n",
       "139  The First Quarter Storm started on January 30,...  \n",
       "\n",
       "[140 rows x 3 columns]"
      ]
     },
     "execution_count": 8,
     "metadata": {},
     "output_type": "execute_result"
    }
   ],
   "source": [
    "result = pd.read_excel(\"datasets/hidden_generated_chatbot.xlsx\")\n",
    "result"
   ]
  },
  {
   "cell_type": "code",
   "execution_count": 19,
   "metadata": {},
   "outputs": [
    {
     "ename": "ImportError",
     "evalue": "To be able to use evaluate-metric/bleurt, you need to install the following dependencies['bleurt'] using 'pip install git+https://github.com/google-research/bleurt.git' for instance'",
     "output_type": "error",
     "traceback": [
      "\u001b[0;31m---------------------------------------------------------------------------\u001b[0m",
      "\u001b[0;31mImportError\u001b[0m                               Traceback (most recent call last)",
      "Cell \u001b[0;32mIn[19], line 4\u001b[0m\n\u001b[1;32m      1\u001b[0m \u001b[38;5;28;01mfrom\u001b[39;00m \u001b[38;5;21;01mnltk\u001b[39;00m\u001b[38;5;21;01m.\u001b[39;00m\u001b[38;5;21;01mtranslate\u001b[39;00m \u001b[38;5;28;01mimport\u001b[39;00m meteor_score\n\u001b[1;32m      2\u001b[0m \u001b[38;5;28;01mimport\u001b[39;00m \u001b[38;5;21;01mevaluate\u001b[39;00m\n\u001b[0;32m----> 4\u001b[0m bleurt \u001b[38;5;241m=\u001b[39m \u001b[43mevaluate\u001b[49m\u001b[38;5;241;43m.\u001b[39;49m\u001b[43mload\u001b[49m\u001b[43m(\u001b[49m\u001b[38;5;124;43m\"\u001b[39;49m\u001b[38;5;124;43mbleurt\u001b[39;49m\u001b[38;5;124;43m\"\u001b[39;49m\u001b[43m,\u001b[49m\u001b[43m \u001b[49m\u001b[43mmodule_type\u001b[49m\u001b[38;5;241;43m=\u001b[39;49m\u001b[38;5;124;43m\"\u001b[39;49m\u001b[38;5;124;43mmetric\u001b[39;49m\u001b[38;5;124;43m\"\u001b[39;49m\u001b[43m)\u001b[49m\n",
      "File \u001b[0;32m~/.local/lib/python3.8/site-packages/evaluate/loading.py:748\u001b[0m, in \u001b[0;36mload\u001b[0;34m(path, config_name, module_type, process_id, num_process, cache_dir, experiment_id, keep_in_memory, download_config, download_mode, revision, **init_kwargs)\u001b[0m\n\u001b[1;32m    703\u001b[0m \u001b[38;5;250m\u001b[39m\u001b[38;5;124;03m\"\"\"Load a [`~evaluate.EvaluationModule`].\u001b[39;00m\n\u001b[1;32m    704\u001b[0m \n\u001b[1;32m    705\u001b[0m \u001b[38;5;124;03mArgs:\u001b[39;00m\n\u001b[0;32m   (...)\u001b[0m\n\u001b[1;32m    745\u001b[0m \u001b[38;5;124;03m    ```\u001b[39;00m\n\u001b[1;32m    746\u001b[0m \u001b[38;5;124;03m\"\"\"\u001b[39;00m\n\u001b[1;32m    747\u001b[0m download_mode \u001b[38;5;241m=\u001b[39m DownloadMode(download_mode \u001b[38;5;129;01mor\u001b[39;00m DownloadMode\u001b[38;5;241m.\u001b[39mREUSE_DATASET_IF_EXISTS)\n\u001b[0;32m--> 748\u001b[0m evaluation_module \u001b[38;5;241m=\u001b[39m \u001b[43mevaluation_module_factory\u001b[49m\u001b[43m(\u001b[49m\n\u001b[1;32m    749\u001b[0m \u001b[43m    \u001b[49m\u001b[43mpath\u001b[49m\u001b[43m,\u001b[49m\u001b[43m \u001b[49m\u001b[43mmodule_type\u001b[49m\u001b[38;5;241;43m=\u001b[39;49m\u001b[43mmodule_type\u001b[49m\u001b[43m,\u001b[49m\u001b[43m \u001b[49m\u001b[43mrevision\u001b[49m\u001b[38;5;241;43m=\u001b[39;49m\u001b[43mrevision\u001b[49m\u001b[43m,\u001b[49m\u001b[43m \u001b[49m\u001b[43mdownload_config\u001b[49m\u001b[38;5;241;43m=\u001b[39;49m\u001b[43mdownload_config\u001b[49m\u001b[43m,\u001b[49m\u001b[43m \u001b[49m\u001b[43mdownload_mode\u001b[49m\u001b[38;5;241;43m=\u001b[39;49m\u001b[43mdownload_mode\u001b[49m\n\u001b[1;32m    750\u001b[0m \u001b[43m\u001b[49m\u001b[43m)\u001b[49m\n\u001b[1;32m    751\u001b[0m evaluation_cls \u001b[38;5;241m=\u001b[39m import_main_class(evaluation_module\u001b[38;5;241m.\u001b[39mmodule_path)\n\u001b[1;32m    752\u001b[0m evaluation_instance \u001b[38;5;241m=\u001b[39m evaluation_cls(\n\u001b[1;32m    753\u001b[0m     config_name\u001b[38;5;241m=\u001b[39mconfig_name,\n\u001b[1;32m    754\u001b[0m     process_id\u001b[38;5;241m=\u001b[39mprocess_id,\n\u001b[0;32m   (...)\u001b[0m\n\u001b[1;32m    760\u001b[0m     \u001b[38;5;241m*\u001b[39m\u001b[38;5;241m*\u001b[39minit_kwargs,\n\u001b[1;32m    761\u001b[0m )\n",
      "File \u001b[0;32m~/.local/lib/python3.8/site-packages/evaluate/loading.py:680\u001b[0m, in \u001b[0;36mevaluation_module_factory\u001b[0;34m(path, module_type, revision, download_config, download_mode, force_local_path, dynamic_modules_path, **download_kwargs)\u001b[0m\n\u001b[1;32m    678\u001b[0m                 \u001b[38;5;28;01mpass\u001b[39;00m\n\u001b[1;32m    679\u001b[0m         \u001b[38;5;28;01mif\u001b[39;00m \u001b[38;5;129;01mnot\u001b[39;00m \u001b[38;5;28misinstance\u001b[39m(e1, (\u001b[38;5;167;01mConnectionError\u001b[39;00m, \u001b[38;5;167;01mFileNotFoundError\u001b[39;00m)):\n\u001b[0;32m--> 680\u001b[0m             \u001b[38;5;28;01mraise\u001b[39;00m e1 \u001b[38;5;28;01mfrom\u001b[39;00m \u001b[38;5;28;01mNone\u001b[39;00m\n\u001b[1;32m    681\u001b[0m         \u001b[38;5;28;01mraise\u001b[39;00m \u001b[38;5;167;01mFileNotFoundError\u001b[39;00m(\n\u001b[1;32m    682\u001b[0m             \u001b[38;5;124mf\u001b[39m\u001b[38;5;124m\"\u001b[39m\u001b[38;5;124mCouldn\u001b[39m\u001b[38;5;124m'\u001b[39m\u001b[38;5;124mt find a module script at \u001b[39m\u001b[38;5;132;01m{\u001b[39;00mrelative_to_absolute_path(combined_path)\u001b[38;5;132;01m}\u001b[39;00m\u001b[38;5;124m. \u001b[39m\u001b[38;5;124m\"\u001b[39m\n\u001b[1;32m    683\u001b[0m             \u001b[38;5;124mf\u001b[39m\u001b[38;5;124m\"\u001b[39m\u001b[38;5;124mModule \u001b[39m\u001b[38;5;124m'\u001b[39m\u001b[38;5;132;01m{\u001b[39;00mpath\u001b[38;5;132;01m}\u001b[39;00m\u001b[38;5;124m'\u001b[39m\u001b[38;5;124m doesn\u001b[39m\u001b[38;5;124m'\u001b[39m\u001b[38;5;124mt exist on the Hugging Face Hub either.\u001b[39m\u001b[38;5;124m\"\u001b[39m\n\u001b[1;32m    684\u001b[0m         ) \u001b[38;5;28;01mfrom\u001b[39;00m \u001b[38;5;28;01mNone\u001b[39;00m\n\u001b[1;32m    685\u001b[0m \u001b[38;5;28;01melse\u001b[39;00m:\n",
      "File \u001b[0;32m~/.local/lib/python3.8/site-packages/evaluate/loading.py:645\u001b[0m, in \u001b[0;36mevaluation_module_factory\u001b[0;34m(path, module_type, revision, download_config, download_mode, force_local_path, dynamic_modules_path, **download_kwargs)\u001b[0m\n\u001b[1;32m    642\u001b[0m         \u001b[38;5;28;01mraise\u001b[39;00m \u001b[38;5;167;01mFileNotFoundError\u001b[39;00m\n\u001b[1;32m    643\u001b[0m     \u001b[38;5;66;03m# if module_type provided load specific module_type\u001b[39;00m\n\u001b[1;32m    644\u001b[0m     \u001b[38;5;28;01melse\u001b[39;00m:\n\u001b[0;32m--> 645\u001b[0m         \u001b[38;5;28;01mreturn\u001b[39;00m \u001b[43mHubEvaluationModuleFactory\u001b[49m\u001b[43m(\u001b[49m\n\u001b[1;32m    646\u001b[0m \u001b[43m            \u001b[49m\u001b[38;5;124;43mf\u001b[39;49m\u001b[38;5;124;43m\"\u001b[39;49m\u001b[38;5;124;43mevaluate-\u001b[39;49m\u001b[38;5;132;43;01m{\u001b[39;49;00m\u001b[43mmodule_type\u001b[49m\u001b[38;5;132;43;01m}\u001b[39;49;00m\u001b[38;5;124;43m/\u001b[39;49m\u001b[38;5;132;43;01m{\u001b[39;49;00m\u001b[43mpath\u001b[49m\u001b[38;5;132;43;01m}\u001b[39;49;00m\u001b[38;5;124;43m\"\u001b[39;49m\u001b[43m,\u001b[49m\n\u001b[1;32m    647\u001b[0m \u001b[43m            \u001b[49m\u001b[43mrevision\u001b[49m\u001b[38;5;241;43m=\u001b[39;49m\u001b[43mrevision\u001b[49m\u001b[43m,\u001b[49m\n\u001b[1;32m    648\u001b[0m \u001b[43m            \u001b[49m\u001b[43mdownload_config\u001b[49m\u001b[38;5;241;43m=\u001b[39;49m\u001b[43mdownload_config\u001b[49m\u001b[43m,\u001b[49m\n\u001b[1;32m    649\u001b[0m \u001b[43m            \u001b[49m\u001b[43mdownload_mode\u001b[49m\u001b[38;5;241;43m=\u001b[39;49m\u001b[43mdownload_mode\u001b[49m\u001b[43m,\u001b[49m\n\u001b[1;32m    650\u001b[0m \u001b[43m            \u001b[49m\u001b[43mdynamic_modules_path\u001b[49m\u001b[38;5;241;43m=\u001b[39;49m\u001b[43mdynamic_modules_path\u001b[49m\u001b[43m,\u001b[49m\n\u001b[1;32m    651\u001b[0m \u001b[43m        \u001b[49m\u001b[43m)\u001b[49m\u001b[38;5;241;43m.\u001b[39;49m\u001b[43mget_module\u001b[49m\u001b[43m(\u001b[49m\u001b[43m)\u001b[49m\n\u001b[1;32m    652\u001b[0m \u001b[38;5;66;03m# load community evaluation module from hub\u001b[39;00m\n\u001b[1;32m    653\u001b[0m \u001b[38;5;28;01melif\u001b[39;00m path\u001b[38;5;241m.\u001b[39mcount(\u001b[38;5;124m\"\u001b[39m\u001b[38;5;124m/\u001b[39m\u001b[38;5;124m\"\u001b[39m) \u001b[38;5;241m==\u001b[39m \u001b[38;5;241m1\u001b[39m:\n",
      "File \u001b[0;32m~/.local/lib/python3.8/site-packages/evaluate/loading.py:489\u001b[0m, in \u001b[0;36mHubEvaluationModuleFactory.get_module\u001b[0;34m(self)\u001b[0m\n\u001b[1;32m    486\u001b[0m         \u001b[38;5;28;01mraise\u001b[39;00m err\n\u001b[1;32m    488\u001b[0m imports \u001b[38;5;241m=\u001b[39m get_imports(local_path)\n\u001b[0;32m--> 489\u001b[0m local_imports \u001b[38;5;241m=\u001b[39m \u001b[43m_download_additional_modules\u001b[49m\u001b[43m(\u001b[49m\n\u001b[1;32m    490\u001b[0m \u001b[43m    \u001b[49m\u001b[43mname\u001b[49m\u001b[38;5;241;43m=\u001b[39;49m\u001b[38;5;28;43mself\u001b[39;49m\u001b[38;5;241;43m.\u001b[39;49m\u001b[43mname\u001b[49m\u001b[43m,\u001b[49m\n\u001b[1;32m    491\u001b[0m \u001b[43m    \u001b[49m\u001b[43mbase_path\u001b[49m\u001b[38;5;241;43m=\u001b[39;49m\u001b[43mhf_hub_url\u001b[49m\u001b[43m(\u001b[49m\u001b[43mpath\u001b[49m\u001b[38;5;241;43m=\u001b[39;49m\u001b[38;5;28;43mself\u001b[39;49m\u001b[38;5;241;43m.\u001b[39;49m\u001b[43mname\u001b[49m\u001b[43m,\u001b[49m\u001b[43m \u001b[49m\u001b[43mname\u001b[49m\u001b[38;5;241;43m=\u001b[39;49m\u001b[38;5;124;43m\"\u001b[39;49m\u001b[38;5;124;43m\"\u001b[39;49m\u001b[43m,\u001b[49m\u001b[43m \u001b[49m\u001b[43mrevision\u001b[49m\u001b[38;5;241;43m=\u001b[39;49m\u001b[43mrevision\u001b[49m\u001b[43m)\u001b[49m\u001b[43m,\u001b[49m\n\u001b[1;32m    492\u001b[0m \u001b[43m    \u001b[49m\u001b[43mimports\u001b[49m\u001b[38;5;241;43m=\u001b[39;49m\u001b[43mimports\u001b[49m\u001b[43m,\u001b[49m\n\u001b[1;32m    493\u001b[0m \u001b[43m    \u001b[49m\u001b[43mdownload_config\u001b[49m\u001b[38;5;241;43m=\u001b[39;49m\u001b[38;5;28;43mself\u001b[39;49m\u001b[38;5;241;43m.\u001b[39;49m\u001b[43mdownload_config\u001b[49m\u001b[43m,\u001b[49m\n\u001b[1;32m    494\u001b[0m \u001b[43m\u001b[49m\u001b[43m)\u001b[49m\n\u001b[1;32m    495\u001b[0m \u001b[38;5;66;03m# copy the script and the files in an importable directory\u001b[39;00m\n\u001b[1;32m    496\u001b[0m dynamic_modules_path \u001b[38;5;241m=\u001b[39m \u001b[38;5;28mself\u001b[39m\u001b[38;5;241m.\u001b[39mdynamic_modules_path \u001b[38;5;28;01mif\u001b[39;00m \u001b[38;5;28mself\u001b[39m\u001b[38;5;241m.\u001b[39mdynamic_modules_path \u001b[38;5;28;01melse\u001b[39;00m init_dynamic_modules()\n",
      "File \u001b[0;32m~/.local/lib/python3.8/site-packages/evaluate/loading.py:265\u001b[0m, in \u001b[0;36m_download_additional_modules\u001b[0;34m(name, base_path, imports, download_config)\u001b[0m\n\u001b[1;32m    263\u001b[0m         needs_to_be_installed\u001b[38;5;241m.\u001b[39madd((library_import_name, library_import_path))\n\u001b[1;32m    264\u001b[0m \u001b[38;5;28;01mif\u001b[39;00m needs_to_be_installed:\n\u001b[0;32m--> 265\u001b[0m     \u001b[38;5;28;01mraise\u001b[39;00m \u001b[38;5;167;01mImportError\u001b[39;00m(\n\u001b[1;32m    266\u001b[0m         \u001b[38;5;124mf\u001b[39m\u001b[38;5;124m\"\u001b[39m\u001b[38;5;124mTo be able to use \u001b[39m\u001b[38;5;132;01m{\u001b[39;00mname\u001b[38;5;132;01m}\u001b[39;00m\u001b[38;5;124m, you need to install the following dependencies\u001b[39m\u001b[38;5;124m\"\u001b[39m\n\u001b[1;32m    267\u001b[0m         \u001b[38;5;124mf\u001b[39m\u001b[38;5;124m\"\u001b[39m\u001b[38;5;132;01m{\u001b[39;00m[lib_name\u001b[38;5;250m \u001b[39m\u001b[38;5;28;01mfor\u001b[39;00m\u001b[38;5;250m \u001b[39mlib_name,\u001b[38;5;250m \u001b[39mlib_path\u001b[38;5;250m \u001b[39m\u001b[38;5;129;01min\u001b[39;00m\u001b[38;5;250m \u001b[39mneeds_to_be_installed]\u001b[38;5;132;01m}\u001b[39;00m\u001b[38;5;124m using \u001b[39m\u001b[38;5;124m'\u001b[39m\u001b[38;5;124mpip install \u001b[39m\u001b[38;5;124m\"\u001b[39m\n\u001b[1;32m    268\u001b[0m         \u001b[38;5;124mf\u001b[39m\u001b[38;5;124m\"\u001b[39m\u001b[38;5;132;01m{\u001b[39;00m\u001b[38;5;124m'\u001b[39m\u001b[38;5;124m \u001b[39m\u001b[38;5;124m'\u001b[39m\u001b[38;5;241m.\u001b[39mjoin([lib_path\u001b[38;5;250m \u001b[39m\u001b[38;5;28;01mfor\u001b[39;00m\u001b[38;5;250m \u001b[39mlib_name,\u001b[38;5;250m \u001b[39mlib_path\u001b[38;5;250m \u001b[39m\u001b[38;5;129;01min\u001b[39;00m\u001b[38;5;250m \u001b[39mneeds_to_be_installed])\u001b[38;5;132;01m}\u001b[39;00m\u001b[38;5;124m'\u001b[39m\u001b[38;5;124m for instance\u001b[39m\u001b[38;5;124m'\u001b[39m\u001b[38;5;124m\"\u001b[39m\n\u001b[1;32m    269\u001b[0m     )\n\u001b[1;32m    270\u001b[0m \u001b[38;5;28;01mreturn\u001b[39;00m local_imports\n",
      "\u001b[0;31mImportError\u001b[0m: To be able to use evaluate-metric/bleurt, you need to install the following dependencies['bleurt'] using 'pip install git+https://github.com/google-research/bleurt.git' for instance'"
     ]
    }
   ],
   "source": [
    "from nltk.translate import meteor_score\n",
    "import evaluate\n",
    "\n",
    "bleurt = evaluate.load(\"bleurt\", module_type=\"metric\")"
   ]
  },
  {
   "cell_type": "code",
   "execution_count": 11,
   "metadata": {},
   "outputs": [],
   "source": [
    "embedding_model_name = \"BAAI/bge-small-en-v1.5\"\n",
    "embedding_model = SentenceTransformer(embedding_model_name)\n",
    "\n",
    "def calculate_similarity(reference, candidate):\n",
    "    \"\"\"\n",
    "    Calculates text similarity between a reference and a candidate using both sentence embeddings and n-gram matching.\n",
    "\n",
    "    Args:\n",
    "        reference (str): The reference text string.\n",
    "        candidate (str): The candidate text string.\n",
    "\n",
    "    Returns:\n",
    "        tuple: A tuple containing the exact match score and the n-gram matching score.\n",
    "    \"\"\"\n",
    "\n",
    "    # Get embeddings for both texts\n",
    "    embedding1 = embedding_model.encode(str(reference), convert_to_tensor=True)\n",
    "    embedding2 = embedding_model.encode(str(candidate), convert_to_tensor=True)\n",
    "    \n",
    "    # Move tensors to CPU\n",
    "    embedding1 = embedding1.cpu()\n",
    "    embedding2 = embedding2.cpu()\n",
    "\n",
    "    # Calculate cosine similarity using sentence embeddings\n",
    "    # Embeddings: Understands meaning, good for similar ideas with different words.\n",
    "    similarity_embeddings = np.dot(embedding1, embedding2) / (np.linalg.norm(embedding1) * np.linalg.norm(embedding2))\n",
    "\n",
    "    # Tokenize the strings into words\n",
    "    # Normalized Levenshtein Score (1-0)\n",
    "    # Levenshtein: Counts edits, good for word order and typos, strict on word choice.\n",
    "    levenshtein_score = 1 - (jellyfish.levenshtein_distance(str(reference), str(candidate)) / max(len(str(reference)), len(str(candidate))))\n",
    "\n",
    "    # Normalized Jaro-Winkler Score (1-0)\n",
    "    # Jaro-Winkler: Forgives some errors, good for names or addresses, balances exactness and flexibility.\n",
    "    jaro_winkler_score = jellyfish.jaro_winkler_similarity(str(reference), str(candidate))\n",
    "\n",
    "    # meteor score computation\n",
    "    # METEOR score computation\n",
    "    meteor_score_value = meteor_score.single_meteor_score(reference, candidate)\n",
    "\n",
    "    # BLEURT score computation\n",
    "    bleurt_score_value = bleurt_scorer.score([reference], [candidate])[0]\n",
    "\n",
    "    return similarity_embeddings, levenshtein_score, jaro_winkler_score\n"
   ]
  },
  {
   "cell_type": "code",
   "execution_count": 13,
   "metadata": {},
   "outputs": [
    {
     "data": {
      "text/html": [
       "<div>\n",
       "<style scoped>\n",
       "    .dataframe tbody tr th:only-of-type {\n",
       "        vertical-align: middle;\n",
       "    }\n",
       "\n",
       "    .dataframe tbody tr th {\n",
       "        vertical-align: top;\n",
       "    }\n",
       "\n",
       "    .dataframe thead th {\n",
       "        text-align: right;\n",
       "    }\n",
       "</style>\n",
       "<table border=\"1\" class=\"dataframe\">\n",
       "  <thead>\n",
       "    <tr style=\"text-align: right;\">\n",
       "      <th></th>\n",
       "      <th>question</th>\n",
       "      <th>reference</th>\n",
       "      <th>prediction</th>\n",
       "    </tr>\n",
       "  </thead>\n",
       "  <tbody>\n",
       "    <tr>\n",
       "      <th>0</th>\n",
       "      <td>Who made the oblation statue?</td>\n",
       "      <td>Guillermo Estrella Tolentino</td>\n",
       "      <td>The Oblation Statue was created by National Ar...</td>\n",
       "    </tr>\n",
       "    <tr>\n",
       "      <th>1</th>\n",
       "      <td>What year was the first sundial in UP Diliman ...</td>\n",
       "      <td>1957</td>\n",
       "      <td>The first one was constructed on February 28, ...</td>\n",
       "    </tr>\n",
       "    <tr>\n",
       "      <th>2</th>\n",
       "      <td>Who is the head of the Ubiquitous Computing La...</td>\n",
       "      <td>Rowel Atienza, PhD</td>\n",
       "      <td>Dr. Joel Joseph Marciano, Jr.</td>\n",
       "    </tr>\n",
       "    <tr>\n",
       "      <th>3</th>\n",
       "      <td>Who is the head of the Digital Signal Processi...</td>\n",
       "      <td>Carl Timothy Tolentino</td>\n",
       "      <td>Dr. Joel Joseph Marciano, Jr.</td>\n",
       "    </tr>\n",
       "    <tr>\n",
       "      <th>4</th>\n",
       "      <td>When was the College of Science in UP Diliman ...</td>\n",
       "      <td>1983-10-26 00:00:00</td>\n",
       "      <td>The College of Science (COS) was created on Fe...</td>\n",
       "    </tr>\n",
       "    <tr>\n",
       "      <th>...</th>\n",
       "      <td>...</td>\n",
       "      <td>...</td>\n",
       "      <td>...</td>\n",
       "    </tr>\n",
       "    <tr>\n",
       "      <th>135</th>\n",
       "      <td>Which field is UP Manila known for</td>\n",
       "      <td>Health Sciences</td>\n",
       "      <td>?.</td>\n",
       "    </tr>\n",
       "    <tr>\n",
       "      <th>136</th>\n",
       "      <td>What is Quezon Hall?</td>\n",
       "      <td>Quezon Hall is the main administration buildin...</td>\n",
       "      <td>Quezon Hall, also known as UP Administration B...</td>\n",
       "    </tr>\n",
       "    <tr>\n",
       "      <th>137</th>\n",
       "      <td>Where is the location of UP Cebu?</td>\n",
       "      <td>UP Cebu is located in Gorordo Avenue, Lahug, C...</td>\n",
       "      <td>The University of the Philippines Cebu Campus ...</td>\n",
       "    </tr>\n",
       "    <tr>\n",
       "      <th>138</th>\n",
       "      <td>Who heads the UP Resilience Institute?</td>\n",
       "      <td>Dr. Mahar Lagmay</td>\n",
       "      <td>Dr. Alfredo Mahar Francisco A. Montecillo is t...</td>\n",
       "    </tr>\n",
       "    <tr>\n",
       "      <th>139</th>\n",
       "      <td>When did the First Quarter Storm start?</td>\n",
       "      <td>January 26, 1970.</td>\n",
       "      <td>The First Quarter Storm started on January 30,...</td>\n",
       "    </tr>\n",
       "  </tbody>\n",
       "</table>\n",
       "<p>140 rows × 3 columns</p>\n",
       "</div>"
      ],
      "text/plain": [
       "                                              question  \\\n",
       "0                        Who made the oblation statue?   \n",
       "1    What year was the first sundial in UP Diliman ...   \n",
       "2    Who is the head of the Ubiquitous Computing La...   \n",
       "3    Who is the head of the Digital Signal Processi...   \n",
       "4    When was the College of Science in UP Diliman ...   \n",
       "..                                                 ...   \n",
       "135                 Which field is UP Manila known for   \n",
       "136                               What is Quezon Hall?   \n",
       "137                  Where is the location of UP Cebu?   \n",
       "138             Who heads the UP Resilience Institute?   \n",
       "139            When did the First Quarter Storm start?   \n",
       "\n",
       "                                             reference  \\\n",
       "0                         Guillermo Estrella Tolentino   \n",
       "1                                                 1957   \n",
       "2                                   Rowel Atienza, PhD   \n",
       "3                               Carl Timothy Tolentino   \n",
       "4                                  1983-10-26 00:00:00   \n",
       "..                                                 ...   \n",
       "135                                    Health Sciences   \n",
       "136  Quezon Hall is the main administration buildin...   \n",
       "137  UP Cebu is located in Gorordo Avenue, Lahug, C...   \n",
       "138                                   Dr. Mahar Lagmay   \n",
       "139                                  January 26, 1970.   \n",
       "\n",
       "                                            prediction  \n",
       "0    The Oblation Statue was created by National Ar...  \n",
       "1    The first one was constructed on February 28, ...  \n",
       "2                        Dr. Joel Joseph Marciano, Jr.  \n",
       "3                        Dr. Joel Joseph Marciano, Jr.  \n",
       "4    The College of Science (COS) was created on Fe...  \n",
       "..                                                 ...  \n",
       "135                                                 ?.  \n",
       "136  Quezon Hall, also known as UP Administration B...  \n",
       "137  The University of the Philippines Cebu Campus ...  \n",
       "138  Dr. Alfredo Mahar Francisco A. Montecillo is t...  \n",
       "139  The First Quarter Storm started on January 30,...  \n",
       "\n",
       "[140 rows x 3 columns]"
      ]
     },
     "execution_count": 13,
     "metadata": {},
     "output_type": "execute_result"
    }
   ],
   "source": [
    "df_mc = pd.read_excel(\"datasets/hidden_generated_chatbot.xlsx\")\n",
    "df_mc"
   ]
  },
  {
   "cell_type": "code",
   "execution_count": 14,
   "metadata": {},
   "outputs": [],
   "source": [
    "similarity_score, levenshtein_score, jaro_winkler_score = [], [], []\n",
    "\n",
    "for (ground_truth, chatbot) in zip(df_mc[\"reference\"], df_mc[\"prediction\"]):\n",
    "    similarity_embeddings, levenshtein, jaro_winkler = calculate_similarity(ground_truth, chatbot)\n",
    "    similarity_score.append(similarity_embeddings)\n",
    "    levenshtein_score.append(levenshtein)\n",
    "    jaro_winkler_score.append(jaro_winkler)\n"
   ]
  },
  {
   "cell_type": "code",
   "execution_count": 15,
   "metadata": {},
   "outputs": [],
   "source": [
    "df_mc[\"similarity_score\"] = similarity_score\n",
    "df_mc[\"levenshtein_score\"] = levenshtein_score\n",
    "df_mc[\"jaro_winkler_score\"] = jaro_winkler_score\n",
    "\n",
    "df_mc.to_excel(\"datasets/hidden_rating.xlsx\", index=False)"
   ]
  },
  {
   "cell_type": "code",
   "execution_count": 16,
   "metadata": {},
   "outputs": [
    {
     "data": {
      "text/html": [
       "<div>\n",
       "<style scoped>\n",
       "    .dataframe tbody tr th:only-of-type {\n",
       "        vertical-align: middle;\n",
       "    }\n",
       "\n",
       "    .dataframe tbody tr th {\n",
       "        vertical-align: top;\n",
       "    }\n",
       "\n",
       "    .dataframe thead th {\n",
       "        text-align: right;\n",
       "    }\n",
       "</style>\n",
       "<table border=\"1\" class=\"dataframe\">\n",
       "  <thead>\n",
       "    <tr style=\"text-align: right;\">\n",
       "      <th></th>\n",
       "      <th>question</th>\n",
       "      <th>reference</th>\n",
       "      <th>prediction</th>\n",
       "      <th>similarity_score</th>\n",
       "      <th>levenshtein_score</th>\n",
       "      <th>jaro_winkler_score</th>\n",
       "    </tr>\n",
       "  </thead>\n",
       "  <tbody>\n",
       "    <tr>\n",
       "      <th>0</th>\n",
       "      <td>Who made the oblation statue?</td>\n",
       "      <td>Guillermo Estrella Tolentino</td>\n",
       "      <td>The Oblation Statue was created by National Ar...</td>\n",
       "      <td>0.686490</td>\n",
       "      <td>0.179245</td>\n",
       "      <td>0.599955</td>\n",
       "    </tr>\n",
       "    <tr>\n",
       "      <th>1</th>\n",
       "      <td>What year was the first sundial in UP Diliman ...</td>\n",
       "      <td>1957</td>\n",
       "      <td>The first one was constructed on February 28, ...</td>\n",
       "      <td>0.540765</td>\n",
       "      <td>0.058824</td>\n",
       "      <td>0.000000</td>\n",
       "    </tr>\n",
       "    <tr>\n",
       "      <th>2</th>\n",
       "      <td>Who is the head of the Ubiquitous Computing La...</td>\n",
       "      <td>Rowel Atienza, PhD</td>\n",
       "      <td>Dr. Joel Joseph Marciano, Jr.</td>\n",
       "      <td>0.559672</td>\n",
       "      <td>0.241379</td>\n",
       "      <td>0.542262</td>\n",
       "    </tr>\n",
       "    <tr>\n",
       "      <th>3</th>\n",
       "      <td>Who is the head of the Digital Signal Processi...</td>\n",
       "      <td>Carl Timothy Tolentino</td>\n",
       "      <td>Dr. Joel Joseph Marciano, Jr.</td>\n",
       "      <td>0.558166</td>\n",
       "      <td>0.172414</td>\n",
       "      <td>0.535528</td>\n",
       "    </tr>\n",
       "    <tr>\n",
       "      <th>4</th>\n",
       "      <td>When was the College of Science in UP Diliman ...</td>\n",
       "      <td>1983-10-26 00:00:00</td>\n",
       "      <td>The College of Science (COS) was created on Fe...</td>\n",
       "      <td>0.518008</td>\n",
       "      <td>0.022556</td>\n",
       "      <td>0.300251</td>\n",
       "    </tr>\n",
       "    <tr>\n",
       "      <th>5</th>\n",
       "      <td>Who was the first dean of the College of Engin...</td>\n",
       "      <td>Mr. W.J. Colbert</td>\n",
       "      <td>Engr.</td>\n",
       "      <td>0.448857</td>\n",
       "      <td>0.062500</td>\n",
       "      <td>0.508333</td>\n",
       "    </tr>\n",
       "    <tr>\n",
       "      <th>6</th>\n",
       "      <td>Who was the first instructor to be appointed f...</td>\n",
       "      <td>Mr. Jose P. Katigbak</td>\n",
       "      <td>Prof. Alfredo E. Pascual was the first instruc...</td>\n",
       "      <td>0.507213</td>\n",
       "      <td>0.118182</td>\n",
       "      <td>0.495455</td>\n",
       "    </tr>\n",
       "    <tr>\n",
       "      <th>7</th>\n",
       "      <td>What was the first program offered by the Coll...</td>\n",
       "      <td>BS Civil Engineering</td>\n",
       "      <td>The College of Engineering (COE) started offer...</td>\n",
       "      <td>0.676403</td>\n",
       "      <td>0.147059</td>\n",
       "      <td>0.538674</td>\n",
       "    </tr>\n",
       "    <tr>\n",
       "      <th>8</th>\n",
       "      <td>What is the total number of faculty in the Col...</td>\n",
       "      <td>2966</td>\n",
       "      <td>102.</td>\n",
       "      <td>0.580864</td>\n",
       "      <td>0.000000</td>\n",
       "      <td>0.000000</td>\n",
       "    </tr>\n",
       "    <tr>\n",
       "      <th>9</th>\n",
       "      <td>What is the total number of students in the Co...</td>\n",
       "      <td>27536</td>\n",
       "      <td>1,702.</td>\n",
       "      <td>0.610263</td>\n",
       "      <td>0.166667</td>\n",
       "      <td>0.455556</td>\n",
       "    </tr>\n",
       "    <tr>\n",
       "      <th>10</th>\n",
       "      <td>What is the name of the person who is the Assi...</td>\n",
       "      <td>Karl Arvin F. Hapal</td>\n",
       "      <td>The name of the person mentioned in the questi...</td>\n",
       "      <td>0.490675</td>\n",
       "      <td>0.135802</td>\n",
       "      <td>0.339939</td>\n",
       "    </tr>\n",
       "    <tr>\n",
       "      <th>11</th>\n",
       "      <td>Who can use a Fablab?</td>\n",
       "      <td>Individuals, designers, professionals, MSMEs, ...</td>\n",
       "      <td>The FabLab is open to all UP students, faculty...</td>\n",
       "      <td>0.624760</td>\n",
       "      <td>0.190476</td>\n",
       "      <td>0.563446</td>\n",
       "    </tr>\n",
       "    <tr>\n",
       "      <th>12</th>\n",
       "      <td>Which campus of UP has the email address epp.u...</td>\n",
       "      <td>UP Diliman-Pampanga Extension Program</td>\n",
       "      <td>Which campus of UP has the email address epp.</td>\n",
       "      <td>0.582419</td>\n",
       "      <td>0.133333</td>\n",
       "      <td>0.504894</td>\n",
       "    </tr>\n",
       "    <tr>\n",
       "      <th>13</th>\n",
       "      <td>What year was the UP Philippine Genome Center ...</td>\n",
       "      <td>2009</td>\n",
       "      <td>The UP PGC was established on February 12, 2015.</td>\n",
       "      <td>0.509735</td>\n",
       "      <td>0.041667</td>\n",
       "      <td>0.000000</td>\n",
       "    </tr>\n",
       "    <tr>\n",
       "      <th>14</th>\n",
       "      <td>What does TBA mean in class schedules?</td>\n",
       "      <td>To Be Announced</td>\n",
       "      <td>TBA means “to be announced.</td>\n",
       "      <td>0.778181</td>\n",
       "      <td>0.481481</td>\n",
       "      <td>0.746667</td>\n",
       "    </tr>\n",
       "  </tbody>\n",
       "</table>\n",
       "</div>"
      ],
      "text/plain": [
       "                                             question  \\\n",
       "0                       Who made the oblation statue?   \n",
       "1   What year was the first sundial in UP Diliman ...   \n",
       "2   Who is the head of the Ubiquitous Computing La...   \n",
       "3   Who is the head of the Digital Signal Processi...   \n",
       "4   When was the College of Science in UP Diliman ...   \n",
       "5   Who was the first dean of the College of Engin...   \n",
       "6   Who was the first instructor to be appointed f...   \n",
       "7   What was the first program offered by the Coll...   \n",
       "8   What is the total number of faculty in the Col...   \n",
       "9   What is the total number of students in the Co...   \n",
       "10  What is the name of the person who is the Assi...   \n",
       "11                              Who can use a Fablab?   \n",
       "12  Which campus of UP has the email address epp.u...   \n",
       "13  What year was the UP Philippine Genome Center ...   \n",
       "14             What does TBA mean in class schedules?   \n",
       "\n",
       "                                            reference  \\\n",
       "0                        Guillermo Estrella Tolentino   \n",
       "1                                                1957   \n",
       "2                                  Rowel Atienza, PhD   \n",
       "3                              Carl Timothy Tolentino   \n",
       "4                                 1983-10-26 00:00:00   \n",
       "5                                    Mr. W.J. Colbert   \n",
       "6                                Mr. Jose P. Katigbak   \n",
       "7                                BS Civil Engineering   \n",
       "8                                                2966   \n",
       "9                                               27536   \n",
       "10                                Karl Arvin F. Hapal   \n",
       "11  Individuals, designers, professionals, MSMEs, ...   \n",
       "12              UP Diliman-Pampanga Extension Program   \n",
       "13                                               2009   \n",
       "14                                    To Be Announced   \n",
       "\n",
       "                                           prediction  similarity_score  \\\n",
       "0   The Oblation Statue was created by National Ar...          0.686490   \n",
       "1   The first one was constructed on February 28, ...          0.540765   \n",
       "2                       Dr. Joel Joseph Marciano, Jr.          0.559672   \n",
       "3                       Dr. Joel Joseph Marciano, Jr.          0.558166   \n",
       "4   The College of Science (COS) was created on Fe...          0.518008   \n",
       "5                                               Engr.          0.448857   \n",
       "6   Prof. Alfredo E. Pascual was the first instruc...          0.507213   \n",
       "7   The College of Engineering (COE) started offer...          0.676403   \n",
       "8                                                102.          0.580864   \n",
       "9                                              1,702.          0.610263   \n",
       "10  The name of the person mentioned in the questi...          0.490675   \n",
       "11  The FabLab is open to all UP students, faculty...          0.624760   \n",
       "12      Which campus of UP has the email address epp.          0.582419   \n",
       "13   The UP PGC was established on February 12, 2015.          0.509735   \n",
       "14                        TBA means “to be announced.          0.778181   \n",
       "\n",
       "    levenshtein_score  jaro_winkler_score  \n",
       "0            0.179245            0.599955  \n",
       "1            0.058824            0.000000  \n",
       "2            0.241379            0.542262  \n",
       "3            0.172414            0.535528  \n",
       "4            0.022556            0.300251  \n",
       "5            0.062500            0.508333  \n",
       "6            0.118182            0.495455  \n",
       "7            0.147059            0.538674  \n",
       "8            0.000000            0.000000  \n",
       "9            0.166667            0.455556  \n",
       "10           0.135802            0.339939  \n",
       "11           0.190476            0.563446  \n",
       "12           0.133333            0.504894  \n",
       "13           0.041667            0.000000  \n",
       "14           0.481481            0.746667  "
      ]
     },
     "execution_count": 16,
     "metadata": {},
     "output_type": "execute_result"
    }
   ],
   "source": [
    "df_mc = pd.read_excel(\"datasets/hidden_rating.xlsx\")\n",
    "df_mc.head(15)"
   ]
  },
  {
   "cell_type": "code",
   "execution_count": 17,
   "metadata": {},
   "outputs": [
    {
     "name": "stdout",
     "output_type": "stream",
     "text": [
      "Average Similarity Score: 0.6513097275580678\n",
      "Average Levenshtein Score: 0.17286649518778568\n",
      "Average Jaro-Winkler Score: 0.5121258587716855\n"
     ]
    }
   ],
   "source": [
    "# calculate average scores \n",
    "print(f\"Average Similarity Score: {df_mc.similarity_score.mean()}\")\n",
    "print(f\"Average Levenshtein Score: {df_mc.levenshtein_score.mean()}\")\n",
    "print(f\"Average Jaro-Winkler Score: {df_mc.jaro_winkler_score.mean()}\")"
   ]
  }
 ],
 "metadata": {
  "kernelspec": {
   "display_name": "base",
   "language": "python",
   "name": "python3"
  },
  "language_info": {
   "codemirror_mode": {
    "name": "ipython",
    "version": 3
   },
   "file_extension": ".py",
   "mimetype": "text/x-python",
   "name": "python",
   "nbconvert_exporter": "python",
   "pygments_lexer": "ipython3",
   "version": "3.8.10"
  }
 },
 "nbformat": 4,
 "nbformat_minor": 2
}
